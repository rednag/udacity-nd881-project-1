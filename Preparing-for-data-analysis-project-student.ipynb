{
 "cells": [
  {
   "cell_type": "markdown",
   "id": "81942eb1",
   "metadata": {},
   "source": [
    "# Course 2 Project: ML Pipeline for Feature Engineering"
   ]
  },
  {
   "cell_type": "markdown",
   "id": "4f241775",
   "metadata": {},
   "source": [
    "## Instructions\n",
    "\n",
    "In this project, you'll use data related to microeconomic indicators and historical stock prices to explore the data engineering pipline. You'll get to practice:\n",
    "\n",
    "* Data ingestion \n",
    "* Data cleaning\n",
    "* Data imputation\n",
    "* Exploratory data analysis (EDA) through charts and graphs"
   ]
  },
  {
   "cell_type": "markdown",
   "id": "1f12b277",
   "metadata": {},
   "source": [
    "## Packages\n",
    "\n",
    "You'll use `pandas` and `matplotlib`, which were covered in the course material, to import, clean, and plot data. They have been installed in this workspace for you. If you're working locally and you installed Jupyter using Anaconda, these packages will already be installed. "
   ]
  },
  {
   "cell_type": "code",
   "execution_count": 293,
   "id": "882241d4",
   "metadata": {},
   "outputs": [],
   "source": [
    "import pandas as pd\n",
    "import matplotlib.pyplot as plt\n",
    "import seaborn as sns"
   ]
  },
  {
   "cell_type": "markdown",
   "id": "f9fcd352",
   "metadata": {},
   "source": [
    "## Load data\n",
    "\n",
    "The first step in a data engineering pipeline for machine learning is to ingest the data that will be used. For this project, data is hosted on a public GitHub repo. \n",
    "\n",
    "Your tasks:\n",
    "* Import data from the provided GitHub repo using `pandas`\n",
    "* Verify that the data has been imported correctly into `pandas` dataframes. Use methods like `head()` and `info()`\n",
    "* You may need to change column names to make them easier to work with\n",
    "* You may need to cast datetime data to the `datetime` format using `pandas` `to_datetime()` method\n",
    "\n",
    "Data files to import: \n",
    "1. GDP\n",
    "2. Inflation \n",
    "3. Apple stock prices \n",
    "4. Microsoft stock prices"
   ]
  },
  {
   "cell_type": "code",
   "execution_count": 294,
   "id": "bd119016",
   "metadata": {},
   "outputs": [],
   "source": [
    "# Load historical GDP data\n",
    "gdp_data = pd.read_csv('GDP.csv')\n"
   ]
  },
  {
   "cell_type": "code",
   "execution_count": 295,
   "id": "cf36d7c0",
   "metadata": {},
   "outputs": [
    {
     "data": {
      "application/vnd.microsoft.datawrangler.viewer.v0+json": {
       "columns": [
        {
         "name": "index",
         "rawType": "int64",
         "type": "integer"
        },
        {
         "name": "DATE",
         "rawType": "object",
         "type": "string"
        },
        {
         "name": "GDP",
         "rawType": "float64",
         "type": "float"
        }
       ],
       "conversionMethod": "pd.DataFrame",
       "ref": "fbe90bf1-fc31-4cf7-ad12-de944c36fc9b",
       "rows": [
        [
         "0",
         "1947-01-01",
         "243.164"
        ],
        [
         "1",
         "1947-04-01",
         "245.968"
        ],
        [
         "2",
         "1947-07-01",
         "249.585"
        ],
        [
         "3",
         "1947-10-01",
         "259.745"
        ],
        [
         "4",
         "1948-01-01",
         "265.742"
        ]
       ],
       "shape": {
        "columns": 2,
        "rows": 5
       }
      },
      "text/html": [
       "<div>\n",
       "<style scoped>\n",
       "    .dataframe tbody tr th:only-of-type {\n",
       "        vertical-align: middle;\n",
       "    }\n",
       "\n",
       "    .dataframe tbody tr th {\n",
       "        vertical-align: top;\n",
       "    }\n",
       "\n",
       "    .dataframe thead th {\n",
       "        text-align: right;\n",
       "    }\n",
       "</style>\n",
       "<table border=\"1\" class=\"dataframe\">\n",
       "  <thead>\n",
       "    <tr style=\"text-align: right;\">\n",
       "      <th></th>\n",
       "      <th>DATE</th>\n",
       "      <th>GDP</th>\n",
       "    </tr>\n",
       "  </thead>\n",
       "  <tbody>\n",
       "    <tr>\n",
       "      <th>0</th>\n",
       "      <td>1947-01-01</td>\n",
       "      <td>243.164</td>\n",
       "    </tr>\n",
       "    <tr>\n",
       "      <th>1</th>\n",
       "      <td>1947-04-01</td>\n",
       "      <td>245.968</td>\n",
       "    </tr>\n",
       "    <tr>\n",
       "      <th>2</th>\n",
       "      <td>1947-07-01</td>\n",
       "      <td>249.585</td>\n",
       "    </tr>\n",
       "    <tr>\n",
       "      <th>3</th>\n",
       "      <td>1947-10-01</td>\n",
       "      <td>259.745</td>\n",
       "    </tr>\n",
       "    <tr>\n",
       "      <th>4</th>\n",
       "      <td>1948-01-01</td>\n",
       "      <td>265.742</td>\n",
       "    </tr>\n",
       "  </tbody>\n",
       "</table>\n",
       "</div>"
      ],
      "text/plain": [
       "         DATE      GDP\n",
       "0  1947-01-01  243.164\n",
       "1  1947-04-01  245.968\n",
       "2  1947-07-01  249.585\n",
       "3  1947-10-01  259.745\n",
       "4  1948-01-01  265.742"
      ]
     },
     "execution_count": 295,
     "metadata": {},
     "output_type": "execute_result"
    }
   ],
   "source": [
    "# Check the first few rows of data\n",
    "gdp_data.head()"
   ]
  },
  {
   "cell_type": "code",
   "execution_count": 296,
   "id": "2a2478c9",
   "metadata": {},
   "outputs": [],
   "source": [
    "# Load the historical stock price data for Apple and Microsoft\n",
    "apple_stock_historical = pd.read_csv('apple_historical_data.csv')\n",
    "microsoft_stock_historical = pd.read_csv('microsoft_historical_data.csv')"
   ]
  },
  {
   "cell_type": "code",
   "execution_count": 297,
   "id": "e9e9a77a",
   "metadata": {},
   "outputs": [
    {
     "data": {
      "application/vnd.microsoft.datawrangler.viewer.v0+json": {
       "columns": [
        {
         "name": "index",
         "rawType": "int64",
         "type": "integer"
        },
        {
         "name": "Date",
         "rawType": "object",
         "type": "string"
        },
        {
         "name": "Close/Last",
         "rawType": "object",
         "type": "string"
        },
        {
         "name": "Volume",
         "rawType": "int64",
         "type": "integer"
        },
        {
         "name": "Open",
         "rawType": "object",
         "type": "string"
        },
        {
         "name": "High",
         "rawType": "object",
         "type": "string"
        },
        {
         "name": "Low",
         "rawType": "object",
         "type": "string"
        }
       ],
       "conversionMethod": "pd.DataFrame",
       "ref": "84c6f5c6-e578-46a2-bb0b-7c39819f7429",
       "rows": [
        [
         "0",
         "5/3/2024",
         "$183.38 ",
         "163224100",
         "$186.65 ",
         "$187.00 ",
         "$182.66 "
        ],
        [
         "1",
         "5/2/2024",
         "$173.03 ",
         "94214920",
         "$172.51 ",
         "$173.42 ",
         "$170.89 "
        ],
        [
         "2",
         "5/1/2024",
         "$169.30 ",
         "50383150",
         "$169.58 ",
         "$172.71 ",
         "$169.11 "
        ],
        [
         "3",
         "4/30/2024",
         "$170.33 ",
         "65934780",
         "$173.33 ",
         "$174.99 ",
         "$170.00 "
        ],
        [
         "4",
         "4/29/2024",
         "$173.50 ",
         "68169420",
         "$173.37 ",
         "$176.03 ",
         "$173.10 "
        ]
       ],
       "shape": {
        "columns": 6,
        "rows": 5
       }
      },
      "text/html": [
       "<div>\n",
       "<style scoped>\n",
       "    .dataframe tbody tr th:only-of-type {\n",
       "        vertical-align: middle;\n",
       "    }\n",
       "\n",
       "    .dataframe tbody tr th {\n",
       "        vertical-align: top;\n",
       "    }\n",
       "\n",
       "    .dataframe thead th {\n",
       "        text-align: right;\n",
       "    }\n",
       "</style>\n",
       "<table border=\"1\" class=\"dataframe\">\n",
       "  <thead>\n",
       "    <tr style=\"text-align: right;\">\n",
       "      <th></th>\n",
       "      <th>Date</th>\n",
       "      <th>Close/Last</th>\n",
       "      <th>Volume</th>\n",
       "      <th>Open</th>\n",
       "      <th>High</th>\n",
       "      <th>Low</th>\n",
       "    </tr>\n",
       "  </thead>\n",
       "  <tbody>\n",
       "    <tr>\n",
       "      <th>0</th>\n",
       "      <td>5/3/2024</td>\n",
       "      <td>$183.38</td>\n",
       "      <td>163224100</td>\n",
       "      <td>$186.65</td>\n",
       "      <td>$187.00</td>\n",
       "      <td>$182.66</td>\n",
       "    </tr>\n",
       "    <tr>\n",
       "      <th>1</th>\n",
       "      <td>5/2/2024</td>\n",
       "      <td>$173.03</td>\n",
       "      <td>94214920</td>\n",
       "      <td>$172.51</td>\n",
       "      <td>$173.42</td>\n",
       "      <td>$170.89</td>\n",
       "    </tr>\n",
       "    <tr>\n",
       "      <th>2</th>\n",
       "      <td>5/1/2024</td>\n",
       "      <td>$169.30</td>\n",
       "      <td>50383150</td>\n",
       "      <td>$169.58</td>\n",
       "      <td>$172.71</td>\n",
       "      <td>$169.11</td>\n",
       "    </tr>\n",
       "    <tr>\n",
       "      <th>3</th>\n",
       "      <td>4/30/2024</td>\n",
       "      <td>$170.33</td>\n",
       "      <td>65934780</td>\n",
       "      <td>$173.33</td>\n",
       "      <td>$174.99</td>\n",
       "      <td>$170.00</td>\n",
       "    </tr>\n",
       "    <tr>\n",
       "      <th>4</th>\n",
       "      <td>4/29/2024</td>\n",
       "      <td>$173.50</td>\n",
       "      <td>68169420</td>\n",
       "      <td>$173.37</td>\n",
       "      <td>$176.03</td>\n",
       "      <td>$173.10</td>\n",
       "    </tr>\n",
       "  </tbody>\n",
       "</table>\n",
       "</div>"
      ],
      "text/plain": [
       "        Date Close/Last     Volume      Open      High       Low\n",
       "0   5/3/2024   $183.38   163224100  $186.65   $187.00   $182.66 \n",
       "1   5/2/2024   $173.03    94214920  $172.51   $173.42   $170.89 \n",
       "2   5/1/2024   $169.30    50383150  $169.58   $172.71   $169.11 \n",
       "3  4/30/2024   $170.33    65934780  $173.33   $174.99   $170.00 \n",
       "4  4/29/2024   $173.50    68169420  $173.37   $176.03   $173.10 "
      ]
     },
     "execution_count": 297,
     "metadata": {},
     "output_type": "execute_result"
    }
   ],
   "source": [
    "# Check the first few rows of data\n",
    "apple_stock_historical.head()"
   ]
  },
  {
   "cell_type": "code",
   "execution_count": 298,
   "id": "8c9bed17",
   "metadata": {},
   "outputs": [
    {
     "data": {
      "application/vnd.microsoft.datawrangler.viewer.v0+json": {
       "columns": [
        {
         "name": "index",
         "rawType": "object",
         "type": "string"
        },
        {
         "name": "Volume",
         "rawType": "float64",
         "type": "float"
        }
       ],
       "conversionMethod": "pd.DataFrame",
       "ref": "eef9b8d7-98e1-4a69-9954-703074daea0e",
       "rows": [
        [
         "count",
         "2517.0"
        ],
        [
         "mean",
         "127739438.99404052"
        ],
        [
         "std",
         "73574053.363864"
        ],
        [
         "min",
         "24048340.0"
        ],
        [
         "25%",
         "77417760.0"
        ],
        [
         "50%",
         "107760100.0"
        ],
        [
         "75%",
         "156778880.0"
        ],
        [
         "max",
         "757678000.0"
        ]
       ],
       "shape": {
        "columns": 1,
        "rows": 8
       }
      },
      "text/html": [
       "<div>\n",
       "<style scoped>\n",
       "    .dataframe tbody tr th:only-of-type {\n",
       "        vertical-align: middle;\n",
       "    }\n",
       "\n",
       "    .dataframe tbody tr th {\n",
       "        vertical-align: top;\n",
       "    }\n",
       "\n",
       "    .dataframe thead th {\n",
       "        text-align: right;\n",
       "    }\n",
       "</style>\n",
       "<table border=\"1\" class=\"dataframe\">\n",
       "  <thead>\n",
       "    <tr style=\"text-align: right;\">\n",
       "      <th></th>\n",
       "      <th>Volume</th>\n",
       "    </tr>\n",
       "  </thead>\n",
       "  <tbody>\n",
       "    <tr>\n",
       "      <th>count</th>\n",
       "      <td>2.517000e+03</td>\n",
       "    </tr>\n",
       "    <tr>\n",
       "      <th>mean</th>\n",
       "      <td>1.277394e+08</td>\n",
       "    </tr>\n",
       "    <tr>\n",
       "      <th>std</th>\n",
       "      <td>7.357405e+07</td>\n",
       "    </tr>\n",
       "    <tr>\n",
       "      <th>min</th>\n",
       "      <td>2.404834e+07</td>\n",
       "    </tr>\n",
       "    <tr>\n",
       "      <th>25%</th>\n",
       "      <td>7.741776e+07</td>\n",
       "    </tr>\n",
       "    <tr>\n",
       "      <th>50%</th>\n",
       "      <td>1.077601e+08</td>\n",
       "    </tr>\n",
       "    <tr>\n",
       "      <th>75%</th>\n",
       "      <td>1.567789e+08</td>\n",
       "    </tr>\n",
       "    <tr>\n",
       "      <th>max</th>\n",
       "      <td>7.576780e+08</td>\n",
       "    </tr>\n",
       "  </tbody>\n",
       "</table>\n",
       "</div>"
      ],
      "text/plain": [
       "             Volume\n",
       "count  2.517000e+03\n",
       "mean   1.277394e+08\n",
       "std    7.357405e+07\n",
       "min    2.404834e+07\n",
       "25%    7.741776e+07\n",
       "50%    1.077601e+08\n",
       "75%    1.567789e+08\n",
       "max    7.576780e+08"
      ]
     },
     "execution_count": 298,
     "metadata": {},
     "output_type": "execute_result"
    }
   ],
   "source": [
    "# Use methods like .info() and .describe() to explore the data\n",
    "apple_stock_historical.describe()\n"
   ]
  },
  {
   "cell_type": "code",
   "execution_count": 299,
   "id": "2a83bf80",
   "metadata": {},
   "outputs": [
    {
     "name": "stdout",
     "output_type": "stream",
     "text": [
      "<class 'pandas.core.frame.DataFrame'>\n",
      "RangeIndex: 2517 entries, 0 to 2516\n",
      "Data columns (total 6 columns):\n",
      " #   Column      Non-Null Count  Dtype \n",
      "---  ------      --------------  ----- \n",
      " 0   Date        2517 non-null   object\n",
      " 1   Close/Last  2514 non-null   object\n",
      " 2   Volume      2517 non-null   int64 \n",
      " 3   Open        2517 non-null   object\n",
      " 4   High        2517 non-null   object\n",
      " 5   Low         2517 non-null   object\n",
      "dtypes: int64(1), object(5)\n",
      "memory usage: 118.1+ KB\n"
     ]
    }
   ],
   "source": [
    "apple_stock_historical.info()"
   ]
  },
  {
   "cell_type": "markdown",
   "id": "06c8d9dc",
   "metadata": {},
   "source": [
    "## Data preprocessing: Check for missing data and forward fill\n",
    "\n",
    "Check the Apple historical prices for missing data. Check for missing data in all columns. If there's data missing, use a forward fill to fill in those missing prices. "
   ]
  },
  {
   "cell_type": "code",
   "execution_count": 300,
   "id": "4807173e",
   "metadata": {},
   "outputs": [
    {
     "data": {
      "text/plain": [
       "Date          False\n",
       "Close/Last     True\n",
       "Volume        False\n",
       "Open          False\n",
       "High          False\n",
       "Low           False\n",
       "dtype: bool"
      ]
     },
     "execution_count": 300,
     "metadata": {},
     "output_type": "execute_result"
    }
   ],
   "source": [
    "# Check for nulls \n",
    "apple_stock_historical.isna().any()\n"
   ]
  },
  {
   "cell_type": "code",
   "execution_count": 301,
   "id": "4fb8e0b6",
   "metadata": {},
   "outputs": [
    {
     "data": {
      "text/plain": [
       "Date          False\n",
       "Close/Last     True\n",
       "Volume        False\n",
       "Open          False\n",
       "High          False\n",
       "Low           False\n",
       "dtype: bool"
      ]
     },
     "execution_count": 301,
     "metadata": {},
     "output_type": "execute_result"
    }
   ],
   "source": [
    "apple_stock_historical.isnull().any()"
   ]
  },
  {
   "cell_type": "code",
   "execution_count": 302,
   "id": "f8303124",
   "metadata": {},
   "outputs": [
    {
     "name": "stdout",
     "output_type": "stream",
     "text": [
      "<class 'pandas.core.frame.DataFrame'>\n",
      "RangeIndex: 2517 entries, 0 to 2516\n",
      "Data columns (total 6 columns):\n",
      " #   Column      Non-Null Count  Dtype \n",
      "---  ------      --------------  ----- \n",
      " 0   Date        2517 non-null   object\n",
      " 1   Close/Last  2514 non-null   object\n",
      " 2   Volume      2517 non-null   int64 \n",
      " 3   Open        2517 non-null   object\n",
      " 4   High        2517 non-null   object\n",
      " 5   Low         2517 non-null   object\n",
      "dtypes: int64(1), object(5)\n",
      "memory usage: 118.1+ KB\n"
     ]
    }
   ],
   "source": [
    "apple_stock_historical.info()"
   ]
  },
  {
   "cell_type": "code",
   "execution_count": 303,
   "id": "c8c19f1a",
   "metadata": {},
   "outputs": [
    {
     "data": {
      "text/plain": [
       "Date          0\n",
       "Close/Last    3\n",
       "Volume        0\n",
       "Open          0\n",
       "High          0\n",
       "Low           0\n",
       "dtype: int64"
      ]
     },
     "execution_count": 303,
     "metadata": {},
     "output_type": "execute_result"
    }
   ],
   "source": [
    "apple_stock_historical.isnull().sum()"
   ]
  },
  {
   "cell_type": "code",
   "execution_count": 304,
   "id": "00e4d6f5",
   "metadata": {},
   "outputs": [],
   "source": [
    "# Forward fill any missing data\n",
    "apple_stock_historical = apple_stock_historical.ffill()"
   ]
  },
  {
   "cell_type": "code",
   "execution_count": 305,
   "id": "f82d3b2d",
   "metadata": {},
   "outputs": [
    {
     "data": {
      "text/plain": [
       "Date          False\n",
       "Close/Last    False\n",
       "Volume        False\n",
       "Open          False\n",
       "High          False\n",
       "Low           False\n",
       "dtype: bool"
      ]
     },
     "execution_count": 305,
     "metadata": {},
     "output_type": "execute_result"
    }
   ],
   "source": [
    "# Check again for nulls after using forward fill\n",
    "apple_stock_historical.isna().any()"
   ]
  },
  {
   "cell_type": "code",
   "execution_count": 306,
   "id": "4f6602a8",
   "metadata": {},
   "outputs": [
    {
     "data": {
      "text/plain": [
       "Date          False\n",
       "Close/Last    False\n",
       "Volume        False\n",
       "Open          False\n",
       "High          False\n",
       "Low           False\n",
       "dtype: bool"
      ]
     },
     "execution_count": 306,
     "metadata": {},
     "output_type": "execute_result"
    }
   ],
   "source": [
    "apple_stock_historical.isnull().any()"
   ]
  },
  {
   "cell_type": "code",
   "execution_count": 307,
   "id": "1b50cebe",
   "metadata": {},
   "outputs": [
    {
     "name": "stdout",
     "output_type": "stream",
     "text": [
      "<class 'pandas.core.frame.DataFrame'>\n",
      "RangeIndex: 2517 entries, 0 to 2516\n",
      "Data columns (total 6 columns):\n",
      " #   Column      Non-Null Count  Dtype \n",
      "---  ------      --------------  ----- \n",
      " 0   Date        2517 non-null   object\n",
      " 1   Close/Last  2517 non-null   object\n",
      " 2   Volume      2517 non-null   int64 \n",
      " 3   Open        2517 non-null   object\n",
      " 4   High        2517 non-null   object\n",
      " 5   Low         2517 non-null   object\n",
      "dtypes: int64(1), object(5)\n",
      "memory usage: 118.1+ KB\n"
     ]
    }
   ],
   "source": [
    "apple_stock_historical.info()"
   ]
  },
  {
   "cell_type": "code",
   "execution_count": 308,
   "id": "70f2ba79",
   "metadata": {},
   "outputs": [
    {
     "data": {
      "text/plain": [
       "Date          0\n",
       "Close/Last    0\n",
       "Volume        0\n",
       "Open          0\n",
       "High          0\n",
       "Low           0\n",
       "dtype: int64"
      ]
     },
     "execution_count": 308,
     "metadata": {},
     "output_type": "execute_result"
    }
   ],
   "source": [
    "apple_stock_historical.isnull().sum()"
   ]
  },
  {
   "cell_type": "markdown",
   "id": "2614c615",
   "metadata": {},
   "source": [
    "## Data preprocessing: Remove special characters and convert to numeric/datetime\n",
    "\n",
    "The next step in the data engineering process is to standardize and clean up data. In this step, you'll check for odd formatting and special characters that will make it difficult to work with data as numeric or datetime. \n",
    "\n",
    "In this step:\n",
    "* Create a function that takes in a dataframe and a list of columns and removes dollar signs ('$') from those columns\n",
    "* Convert any columns with date/time data into a `pandas` `datetime` format"
   ]
  },
  {
   "cell_type": "code",
   "execution_count": 309,
   "id": "a47537af",
   "metadata": {},
   "outputs": [],
   "source": [
    "def convert_dollar_columns_to_numeric(df, numeric_columns):\n",
    "    '''\n",
    "        Removes dollar signs ('$') from a list of columns in a given dataframe AND casts the columns to a numeric datatype.\n",
    "        Updates dataframe IN PLACE.\n",
    "        \n",
    "        Inputs:\n",
    "            df: dataframe to be operated on\n",
    "            numeric_columns: columns that should have numeric data but have dollar signs currently\n",
    "            \n",
    "        Returns:\n",
    "            None - changes to the dataframe can be made in place\n",
    "    '''\n",
    "    for col in numeric_columns:\n",
    "        if col in df.columns:\n",
    "            # Remove dollar signs and convert to float\n",
    "            df[col] = df[col].replace({'\\$': ''}, regex=True).astype(float)\n",
    "            df[col] = pd.to_numeric(df[col], errors='coerce')"
   ]
  },
  {
   "cell_type": "code",
   "execution_count": 310,
   "id": "055f8621",
   "metadata": {},
   "outputs": [],
   "source": [
    "# Use convert_dollar_columns_to_numeric() to remove the dollar sign from the Apple and Microsoft datasets\n",
    "convert_dollar_columns_to_numeric(apple_stock_historical, ['Close/Last', 'Volume', 'Open', 'High', 'Low'])\n",
    "convert_dollar_columns_to_numeric(microsoft_stock_historical, ['Close/Last', 'Volume', 'Open', 'High', 'Low'])"
   ]
  },
  {
   "cell_type": "code",
   "execution_count": 311,
   "id": "efea17ca",
   "metadata": {},
   "outputs": [],
   "source": [
    "# Use pandas's to_datetime() to convert any columns that are in a datetime format\n",
    "apple_stock_historical['Date'] = pd.to_datetime(apple_stock_historical['Date'])\n",
    "microsoft_stock_historical['Date'] = pd.to_datetime(microsoft_stock_historical['Date'])"
   ]
  },
  {
   "cell_type": "code",
   "execution_count": 312,
   "id": "8a2089e3",
   "metadata": {},
   "outputs": [
    {
     "name": "stdout",
     "output_type": "stream",
     "text": [
      "<class 'pandas.core.frame.DataFrame'>\n",
      "RangeIndex: 2517 entries, 0 to 2516\n",
      "Data columns (total 6 columns):\n",
      " #   Column      Non-Null Count  Dtype         \n",
      "---  ------      --------------  -----         \n",
      " 0   Date        2517 non-null   datetime64[ns]\n",
      " 1   Close/Last  2517 non-null   float64       \n",
      " 2   Volume      2517 non-null   float64       \n",
      " 3   Open        2517 non-null   float64       \n",
      " 4   High        2517 non-null   float64       \n",
      " 5   Low         2517 non-null   float64       \n",
      "dtypes: datetime64[ns](1), float64(5)\n",
      "memory usage: 118.1 KB\n"
     ]
    }
   ],
   "source": [
    "# Use .info() and check the type of each column to ensure that the above steps worked\n",
    "apple_stock_historical.info()"
   ]
  },
  {
   "cell_type": "code",
   "execution_count": 313,
   "id": "1521c2f2",
   "metadata": {},
   "outputs": [
    {
     "data": {
      "application/vnd.microsoft.datawrangler.viewer.v0+json": {
       "columns": [
        {
         "name": "Date",
         "rawType": "datetime64[ns]",
         "type": "datetime"
        },
        {
         "name": "Close/Last",
         "rawType": "float64",
         "type": "float"
        },
        {
         "name": "Volume",
         "rawType": "float64",
         "type": "float"
        },
        {
         "name": "Open",
         "rawType": "float64",
         "type": "float"
        },
        {
         "name": "High",
         "rawType": "float64",
         "type": "float"
        },
        {
         "name": "Low",
         "rawType": "float64",
         "type": "float"
        }
       ],
       "conversionMethod": "pd.DataFrame",
       "ref": "210afd68-8973-4e5c-a59c-2aeef271ae18",
       "rows": [
        [
         "2014-05-06 00:00:00",
         "21.23",
         "373872650.0",
         "21.49",
         "21.59",
         "21.23"
        ],
        [
         "2014-05-07 00:00:00",
         "21.15",
         "282128727.0",
         "21.26",
         "21.33",
         "20.99"
        ],
        [
         "2014-05-08 00:00:00",
         "21.0",
         "228973884.0",
         "21.01",
         "21.23",
         "20.94"
        ],
        [
         "2014-05-09 00:00:00",
         "20.91",
         "291068564.0",
         "20.88",
         "20.94",
         "20.73"
        ],
        [
         "2014-05-12 00:00:00",
         "21.17",
         "212736019.0",
         "20.98",
         "21.2",
         "20.98"
        ],
        [
         "2014-05-13 00:00:00",
         "21.21",
         "159417936.0",
         "21.14",
         "21.23",
         "21.1"
        ],
        [
         "2014-05-14 00:00:00",
         "21.21",
         "166020698.0",
         "21.16",
         "21.34",
         "21.13"
        ],
        [
         "2014-05-15 00:00:00",
         "21.03",
         "229710816.0",
         "21.24",
         "21.31",
         "21.0"
        ],
        [
         "2014-05-16 00:00:00",
         "21.34",
         "275840350.0",
         "21.02",
         "21.34",
         "20.91"
        ],
        [
         "2014-05-19 00:00:00",
         "21.59",
         "315279314.0",
         "21.35",
         "21.69",
         "21.33"
        ],
        [
         "2014-05-20 00:00:00",
         "21.6",
         "232929331.0",
         "21.59",
         "21.66",
         "21.45"
        ],
        [
         "2014-05-21 00:00:00",
         "21.65",
         "196739793.0",
         "21.57",
         "21.67",
         "21.5"
        ],
        [
         "2014-05-22 00:00:00",
         "21.69",
         "200570528.0",
         "21.66",
         "21.78",
         "21.58"
        ],
        [
         "2014-05-23 00:00:00",
         "21.93",
         "231673307.0",
         "21.69",
         "21.95",
         "21.66"
        ],
        [
         "2014-05-27 00:00:00",
         "22.34",
         "347361701.0",
         "22.0",
         "22.35",
         "21.99"
        ],
        [
         "2014-05-28 00:00:00",
         "22.29",
         "315174594.0",
         "22.36",
         "22.49",
         "22.28"
        ],
        [
         "2014-05-29 00:00:00",
         "22.69",
         "374950650.0",
         "22.42",
         "22.75",
         "22.42"
        ],
        [
         "2014-05-30 00:00:00",
         "22.61",
         "563440415.0",
         "22.79",
         "23.01",
         "22.46"
        ],
        [
         "2014-06-02 00:00:00",
         "22.45",
         "368718413.0",
         "22.64",
         "22.67",
         "22.23"
        ],
        [
         "2014-06-03 00:00:00",
         "22.77",
         "292173443.0",
         "22.45",
         "22.81",
         "22.44"
        ],
        [
         "2014-06-04 00:00:00",
         "23.03",
         "334940906.0",
         "22.77",
         "23.14",
         "22.72"
        ],
        [
         "2014-06-05 00:00:00",
         "23.12",
         "303186119.0",
         "23.08",
         "23.19",
         "22.95"
        ],
        [
         "2014-06-06 00:00:00",
         "23.06",
         "349612060.0",
         "23.21",
         "23.26",
         "23.02"
        ],
        [
         "2014-06-09 00:00:00",
         "23.43",
         "301181800.0",
         "23.18",
         "23.47",
         "22.94"
        ],
        [
         "2014-06-10 00:00:00",
         "23.56",
         "250252280.0",
         "23.68",
         "23.76",
         "23.39"
        ],
        [
         "2014-06-11 00:00:00",
         "23.47",
         "182114960.0",
         "23.53",
         "23.69",
         "23.37"
        ],
        [
         "2014-06-12 00:00:00",
         "23.07",
         "218514600.0",
         "23.51",
         "23.53",
         "22.98"
        ],
        [
         "2014-06-13 00:00:00",
         "22.82",
         "217626560.0",
         "23.05",
         "23.11",
         "22.72"
        ],
        [
         "2014-06-16 00:00:00",
         "23.05",
         "141485840.0",
         "22.88",
         "23.19",
         "22.86"
        ],
        [
         "2014-06-17 00:00:00",
         "23.02",
         "118738480.0",
         "23.08",
         "23.18",
         "22.95"
        ],
        [
         "2014-06-18 00:00:00",
         "23.05",
         "133258880.0",
         "23.07",
         "23.07",
         "22.84"
        ],
        [
         "2014-06-19 00:00:00",
         "22.97",
         "141904320.0",
         "23.07",
         "23.08",
         "22.83"
        ],
        [
         "2014-06-20 00:00:00",
         "22.73",
         "401914400.0",
         "22.96",
         "23.14",
         "22.73"
        ],
        [
         "2014-06-23 00:00:00",
         "22.71",
         "174446840.0",
         "22.83",
         "22.91",
         "22.65"
        ],
        [
         "2014-06-24 00:00:00",
         "22.57",
         "155910680.0",
         "22.69",
         "22.94",
         "22.55"
        ],
        [
         "2014-06-25 00:00:00",
         "22.59",
         "147343600.0",
         "22.55",
         "22.68",
         "22.41"
        ],
        [
         "2014-06-26 00:00:00",
         "22.73",
         "130114720.0",
         "22.59",
         "22.76",
         "22.45"
        ],
        [
         "2014-06-27 00:00:00",
         "23.0",
         "247032800.0",
         "22.71",
         "23.0",
         "22.69"
        ],
        [
         "2014-06-30 00:00:00",
         "23.23",
         "197896920.0",
         "23.03",
         "23.43",
         "23.02"
        ],
        [
         "2014-07-01 00:00:00",
         "23.38",
         "152625120.0",
         "23.38",
         "23.52",
         "23.28"
        ],
        [
         "2014-07-02 00:00:00",
         "23.37",
         "113657240.0",
         "23.47",
         "23.52",
         "23.27"
        ],
        [
         "2014-07-03 00:00:00",
         "23.51",
         "91567000.0",
         "23.42",
         "23.53",
         "23.3"
        ],
        [
         "2014-07-07 00:00:00",
         "23.99",
         "219236120.0",
         "23.54",
         "24.0",
         "23.53"
        ],
        [
         "2014-07-08 00:00:00",
         "23.84",
         "260447840.0",
         "24.07",
         "24.2",
         "23.48"
        ],
        [
         "2014-07-09 00:00:00",
         "23.85",
         "145069400.0",
         "23.86",
         "23.99",
         "23.69"
        ],
        [
         "2014-07-10 00:00:00",
         "23.76",
         "158535200.0",
         "23.44",
         "23.89",
         "23.38"
        ],
        [
         "2014-07-11 00:00:00",
         "23.81",
         "135841200.0",
         "23.84",
         "23.97",
         "23.72"
        ],
        [
         "2014-07-14 00:00:00",
         "24.11",
         "170575040.0",
         "23.97",
         "24.22",
         "23.91"
        ],
        [
         "2014-07-15 00:00:00",
         "23.83",
         "180749680.0",
         "24.2",
         "24.21",
         "23.76"
        ],
        [
         "2014-07-16 00:00:00",
         "23.7",
         "213295760.0",
         "24.24",
         "24.28",
         "23.69"
        ]
       ],
       "shape": {
        "columns": 5,
        "rows": 2517
       }
      },
      "text/html": [
       "<div>\n",
       "<style scoped>\n",
       "    .dataframe tbody tr th:only-of-type {\n",
       "        vertical-align: middle;\n",
       "    }\n",
       "\n",
       "    .dataframe tbody tr th {\n",
       "        vertical-align: top;\n",
       "    }\n",
       "\n",
       "    .dataframe thead th {\n",
       "        text-align: right;\n",
       "    }\n",
       "</style>\n",
       "<table border=\"1\" class=\"dataframe\">\n",
       "  <thead>\n",
       "    <tr style=\"text-align: right;\">\n",
       "      <th></th>\n",
       "      <th>Close/Last</th>\n",
       "      <th>Volume</th>\n",
       "      <th>Open</th>\n",
       "      <th>High</th>\n",
       "      <th>Low</th>\n",
       "    </tr>\n",
       "    <tr>\n",
       "      <th>Date</th>\n",
       "      <th></th>\n",
       "      <th></th>\n",
       "      <th></th>\n",
       "      <th></th>\n",
       "      <th></th>\n",
       "    </tr>\n",
       "  </thead>\n",
       "  <tbody>\n",
       "    <tr>\n",
       "      <th>2014-05-06</th>\n",
       "      <td>21.23</td>\n",
       "      <td>373872650.0</td>\n",
       "      <td>21.49</td>\n",
       "      <td>21.59</td>\n",
       "      <td>21.23</td>\n",
       "    </tr>\n",
       "    <tr>\n",
       "      <th>2014-05-07</th>\n",
       "      <td>21.15</td>\n",
       "      <td>282128727.0</td>\n",
       "      <td>21.26</td>\n",
       "      <td>21.33</td>\n",
       "      <td>20.99</td>\n",
       "    </tr>\n",
       "    <tr>\n",
       "      <th>2014-05-08</th>\n",
       "      <td>21.00</td>\n",
       "      <td>228973884.0</td>\n",
       "      <td>21.01</td>\n",
       "      <td>21.23</td>\n",
       "      <td>20.94</td>\n",
       "    </tr>\n",
       "    <tr>\n",
       "      <th>2014-05-09</th>\n",
       "      <td>20.91</td>\n",
       "      <td>291068564.0</td>\n",
       "      <td>20.88</td>\n",
       "      <td>20.94</td>\n",
       "      <td>20.73</td>\n",
       "    </tr>\n",
       "    <tr>\n",
       "      <th>2014-05-12</th>\n",
       "      <td>21.17</td>\n",
       "      <td>212736019.0</td>\n",
       "      <td>20.98</td>\n",
       "      <td>21.20</td>\n",
       "      <td>20.98</td>\n",
       "    </tr>\n",
       "    <tr>\n",
       "      <th>...</th>\n",
       "      <td>...</td>\n",
       "      <td>...</td>\n",
       "      <td>...</td>\n",
       "      <td>...</td>\n",
       "      <td>...</td>\n",
       "    </tr>\n",
       "    <tr>\n",
       "      <th>2024-04-29</th>\n",
       "      <td>173.50</td>\n",
       "      <td>68169420.0</td>\n",
       "      <td>173.37</td>\n",
       "      <td>176.03</td>\n",
       "      <td>173.10</td>\n",
       "    </tr>\n",
       "    <tr>\n",
       "      <th>2024-04-30</th>\n",
       "      <td>170.33</td>\n",
       "      <td>65934780.0</td>\n",
       "      <td>173.33</td>\n",
       "      <td>174.99</td>\n",
       "      <td>170.00</td>\n",
       "    </tr>\n",
       "    <tr>\n",
       "      <th>2024-05-01</th>\n",
       "      <td>169.30</td>\n",
       "      <td>50383150.0</td>\n",
       "      <td>169.58</td>\n",
       "      <td>172.71</td>\n",
       "      <td>169.11</td>\n",
       "    </tr>\n",
       "    <tr>\n",
       "      <th>2024-05-02</th>\n",
       "      <td>173.03</td>\n",
       "      <td>94214920.0</td>\n",
       "      <td>172.51</td>\n",
       "      <td>173.42</td>\n",
       "      <td>170.89</td>\n",
       "    </tr>\n",
       "    <tr>\n",
       "      <th>2024-05-03</th>\n",
       "      <td>183.38</td>\n",
       "      <td>163224100.0</td>\n",
       "      <td>186.65</td>\n",
       "      <td>187.00</td>\n",
       "      <td>182.66</td>\n",
       "    </tr>\n",
       "  </tbody>\n",
       "</table>\n",
       "<p>2517 rows × 5 columns</p>\n",
       "</div>"
      ],
      "text/plain": [
       "            Close/Last       Volume    Open    High     Low\n",
       "Date                                                       \n",
       "2014-05-06       21.23  373872650.0   21.49   21.59   21.23\n",
       "2014-05-07       21.15  282128727.0   21.26   21.33   20.99\n",
       "2014-05-08       21.00  228973884.0   21.01   21.23   20.94\n",
       "2014-05-09       20.91  291068564.0   20.88   20.94   20.73\n",
       "2014-05-12       21.17  212736019.0   20.98   21.20   20.98\n",
       "...                ...          ...     ...     ...     ...\n",
       "2024-04-29      173.50   68169420.0  173.37  176.03  173.10\n",
       "2024-04-30      170.33   65934780.0  173.33  174.99  170.00\n",
       "2024-05-01      169.30   50383150.0  169.58  172.71  169.11\n",
       "2024-05-02      173.03   94214920.0  172.51  173.42  170.89\n",
       "2024-05-03      183.38  163224100.0  186.65  187.00  182.66\n",
       "\n",
       "[2517 rows x 5 columns]"
      ]
     },
     "execution_count": 313,
     "metadata": {},
     "output_type": "execute_result"
    }
   ],
   "source": [
    "apple_stock_historical.set_index('Date', inplace=True)\n",
    "apple_stock_historical.sort_index(ascending=True, inplace=True)\n",
    "apple_stock_historical"
   ]
  },
  {
   "cell_type": "code",
   "execution_count": 314,
   "id": "3f91c688",
   "metadata": {},
   "outputs": [
    {
     "data": {
      "application/vnd.microsoft.datawrangler.viewer.v0+json": {
       "columns": [
        {
         "name": "Date",
         "rawType": "datetime64[ns]",
         "type": "datetime"
        },
        {
         "name": "Close/Last",
         "rawType": "float64",
         "type": "float"
        },
        {
         "name": "Volume",
         "rawType": "float64",
         "type": "float"
        },
        {
         "name": "Open",
         "rawType": "float64",
         "type": "float"
        },
        {
         "name": "High",
         "rawType": "float64",
         "type": "float"
        },
        {
         "name": "Low",
         "rawType": "float64",
         "type": "float"
        }
       ],
       "conversionMethod": "pd.DataFrame",
       "ref": "5d8e8c55-a520-4166-a7b0-50f46c26bec6",
       "rows": [
        [
         "2014-05-06 00:00:00",
         "39.06",
         "27105700.0",
         "39.29",
         "39.35",
         "38.95"
        ],
        [
         "2014-05-07 00:00:00",
         "39.425",
         "41731030.0",
         "39.22",
         "39.51",
         "38.51"
        ],
        [
         "2014-05-08 00:00:00",
         "39.64",
         "32089010.0",
         "39.34",
         "39.9",
         "38.97"
        ],
        [
         "2014-05-09 00:00:00",
         "39.54",
         "29646100.0",
         "39.54",
         "39.85",
         "39.37"
        ],
        [
         "2014-05-12 00:00:00",
         "39.97",
         "22761620.0",
         "39.74",
         "40.02",
         "39.65"
        ],
        [
         "2014-05-13 00:00:00",
         "40.42",
         "26994040.0",
         "39.92",
         "40.5",
         "39.85"
        ],
        [
         "2014-05-14 00:00:00",
         "40.24",
         "18803840.0",
         "40.3",
         "40.45",
         "40.05"
        ],
        [
         "2014-05-15 00:00:00",
         "39.6",
         "37717220.0",
         "40.09",
         "40.4",
         "39.51"
        ],
        [
         "2014-05-16 00:00:00",
         "39.83",
         "29867030.0",
         "39.67",
         "39.84",
         "39.27"
        ],
        [
         "2014-05-19 00:00:00",
         "39.75",
         "23640880.0",
         "39.61",
         "39.82",
         "39.46"
        ],
        [
         "2014-05-20 00:00:00",
         "39.68",
         "21318920.0",
         "39.68",
         "39.94",
         "39.46"
        ],
        [
         "2014-05-21 00:00:00",
         "40.35",
         "22377460.0",
         "39.8",
         "40.35",
         "39.7399"
        ],
        [
         "2014-05-22 00:00:00",
         "40.1",
         "20201010.0",
         "40.29",
         "40.35",
         "39.85"
        ],
        [
         "2014-05-23 00:00:00",
         "40.12",
         "18013300.0",
         "40.37",
         "40.37",
         "40.0"
        ],
        [
         "2014-05-27 00:00:00",
         "40.19",
         "26160450.0",
         "40.26",
         "40.26",
         "39.81"
        ],
        [
         "2014-05-28 00:00:00",
         "40.01",
         "25711440.0",
         "40.14",
         "40.19",
         "39.82"
        ],
        [
         "2014-05-29 00:00:00",
         "40.34",
         "19887140.0",
         "40.15",
         "40.35",
         "39.91"
        ],
        [
         "2014-05-30 00:00:00",
         "40.94",
         "34564370.0",
         "40.45",
         "40.97",
         "40.25"
        ],
        [
         "2014-06-02 00:00:00",
         "40.79",
         "18493950.0",
         "40.95",
         "41.09",
         "40.68"
        ],
        [
         "2014-06-03 00:00:00",
         "40.29",
         "18041370.0",
         "40.6",
         "40.68",
         "40.25"
        ],
        [
         "2014-06-04 00:00:00",
         "40.32",
         "23198020.0",
         "40.21",
         "40.37",
         "39.86"
        ],
        [
         "2014-06-05 00:00:00",
         "41.21",
         "31839900.0",
         "40.59",
         "41.25",
         "40.4"
        ],
        [
         "2014-06-06 00:00:00",
         "41.48",
         "24042030.0",
         "41.48",
         "41.66",
         "41.24"
        ],
        [
         "2014-06-09 00:00:00",
         "41.27",
         "15011640.0",
         "41.39",
         "41.48",
         "41.02"
        ],
        [
         "2014-06-10 00:00:00",
         "41.11",
         "15002270.0",
         "41.03",
         "41.16",
         "40.86"
        ],
        [
         "2014-06-11 00:00:00",
         "40.86",
         "17635280.0",
         "40.93",
         "41.07",
         "40.765"
        ],
        [
         "2014-06-12 00:00:00",
         "40.58",
         "29812690.0",
         "40.81",
         "40.88",
         "40.29"
        ],
        [
         "2014-06-13 00:00:00",
         "41.23",
         "26305900.0",
         "41.1",
         "41.565",
         "40.86"
        ],
        [
         "2014-06-16 00:00:00",
         "41.5",
         "24127410.0",
         "41.04",
         "41.61",
         "41.04"
        ],
        [
         "2014-06-17 00:00:00",
         "41.68",
         "22473060.0",
         "41.29",
         "41.91",
         "40.335"
        ],
        [
         "2014-06-18 00:00:00",
         "41.65",
         "27053740.0",
         "41.605",
         "41.74",
         "41.18"
        ],
        [
         "2014-06-19 00:00:00",
         "41.51",
         "19828190.0",
         "41.57",
         "41.77",
         "41.3301"
        ],
        [
         "2014-06-20 00:00:00",
         "41.68",
         "47760950.0",
         "41.445",
         "41.83",
         "41.38"
        ],
        [
         "2014-06-23 00:00:00",
         "41.99",
         "18731430.0",
         "41.73",
         "42.0",
         "41.69"
        ],
        [
         "2014-06-24 00:00:00",
         "41.745",
         "26499460.0",
         "41.83",
         "41.94",
         "41.56"
        ],
        [
         "2014-06-25 00:00:00",
         "42.03",
         "20038340.0",
         "41.7",
         "42.05",
         "41.46"
        ],
        [
         "2014-06-26 00:00:00",
         "41.72",
         "23604390.0",
         "41.93",
         "41.94",
         "41.43"
        ],
        [
         "2014-06-27 00:00:00",
         "42.25",
         "70385440.0",
         "41.61",
         "42.29",
         "41.51"
        ],
        [
         "2014-06-30 00:00:00",
         "41.7",
         "30790300.0",
         "42.17",
         "42.21",
         "41.7"
        ],
        [
         "2014-07-01 00:00:00",
         "41.87",
         "26916950.0",
         "41.86",
         "42.15",
         "41.69"
        ],
        [
         "2014-07-02 00:00:00",
         "41.9",
         "20208090.0",
         "41.73",
         "41.9",
         "41.53"
        ],
        [
         "2014-07-03 00:00:00",
         "41.8",
         "15969310.0",
         "41.91",
         "41.99",
         "41.56"
        ],
        [
         "2014-07-07 00:00:00",
         "41.99",
         "21896680.0",
         "41.75",
         "42.12",
         "41.71"
        ],
        [
         "2014-07-08 00:00:00",
         "41.78",
         "31218210.0",
         "41.87",
         "42.0",
         "41.61"
        ],
        [
         "2014-07-09 00:00:00",
         "41.67",
         "18374910.0",
         "41.98",
         "41.99",
         "41.53"
        ],
        [
         "2014-07-10 00:00:00",
         "41.685",
         "21854010.0",
         "41.37",
         "42.0",
         "41.05"
        ],
        [
         "2014-07-11 00:00:00",
         "42.09",
         "24082750.0",
         "41.7",
         "42.09",
         "41.48"
        ],
        [
         "2014-07-14 00:00:00",
         "42.14",
         "21878810.0",
         "42.22",
         "42.45",
         "42.04"
        ],
        [
         "2014-07-15 00:00:00",
         "42.45",
         "28743300.0",
         "42.33",
         "42.47",
         "42.03"
        ],
        [
         "2014-07-16 00:00:00",
         "44.08",
         "63304860.0",
         "42.51",
         "44.31",
         "42.48"
        ]
       ],
       "shape": {
        "columns": 5,
        "rows": 2517
       }
      },
      "text/html": [
       "<div>\n",
       "<style scoped>\n",
       "    .dataframe tbody tr th:only-of-type {\n",
       "        vertical-align: middle;\n",
       "    }\n",
       "\n",
       "    .dataframe tbody tr th {\n",
       "        vertical-align: top;\n",
       "    }\n",
       "\n",
       "    .dataframe thead th {\n",
       "        text-align: right;\n",
       "    }\n",
       "</style>\n",
       "<table border=\"1\" class=\"dataframe\">\n",
       "  <thead>\n",
       "    <tr style=\"text-align: right;\">\n",
       "      <th></th>\n",
       "      <th>Close/Last</th>\n",
       "      <th>Volume</th>\n",
       "      <th>Open</th>\n",
       "      <th>High</th>\n",
       "      <th>Low</th>\n",
       "    </tr>\n",
       "    <tr>\n",
       "      <th>Date</th>\n",
       "      <th></th>\n",
       "      <th></th>\n",
       "      <th></th>\n",
       "      <th></th>\n",
       "      <th></th>\n",
       "    </tr>\n",
       "  </thead>\n",
       "  <tbody>\n",
       "    <tr>\n",
       "      <th>2014-05-06</th>\n",
       "      <td>39.060</td>\n",
       "      <td>27105700.0</td>\n",
       "      <td>39.29</td>\n",
       "      <td>39.3500</td>\n",
       "      <td>38.9500</td>\n",
       "    </tr>\n",
       "    <tr>\n",
       "      <th>2014-05-07</th>\n",
       "      <td>39.425</td>\n",
       "      <td>41731030.0</td>\n",
       "      <td>39.22</td>\n",
       "      <td>39.5100</td>\n",
       "      <td>38.5100</td>\n",
       "    </tr>\n",
       "    <tr>\n",
       "      <th>2014-05-08</th>\n",
       "      <td>39.640</td>\n",
       "      <td>32089010.0</td>\n",
       "      <td>39.34</td>\n",
       "      <td>39.9000</td>\n",
       "      <td>38.9700</td>\n",
       "    </tr>\n",
       "    <tr>\n",
       "      <th>2014-05-09</th>\n",
       "      <td>39.540</td>\n",
       "      <td>29646100.0</td>\n",
       "      <td>39.54</td>\n",
       "      <td>39.8500</td>\n",
       "      <td>39.3700</td>\n",
       "    </tr>\n",
       "    <tr>\n",
       "      <th>2014-05-12</th>\n",
       "      <td>39.970</td>\n",
       "      <td>22761620.0</td>\n",
       "      <td>39.74</td>\n",
       "      <td>40.0200</td>\n",
       "      <td>39.6500</td>\n",
       "    </tr>\n",
       "    <tr>\n",
       "      <th>...</th>\n",
       "      <td>...</td>\n",
       "      <td>...</td>\n",
       "      <td>...</td>\n",
       "      <td>...</td>\n",
       "      <td>...</td>\n",
       "    </tr>\n",
       "    <tr>\n",
       "      <th>2024-04-29</th>\n",
       "      <td>402.250</td>\n",
       "      <td>19582090.0</td>\n",
       "      <td>405.25</td>\n",
       "      <td>406.3200</td>\n",
       "      <td>399.1900</td>\n",
       "    </tr>\n",
       "    <tr>\n",
       "      <th>2024-04-30</th>\n",
       "      <td>389.330</td>\n",
       "      <td>28781370.0</td>\n",
       "      <td>401.49</td>\n",
       "      <td>402.1600</td>\n",
       "      <td>389.1700</td>\n",
       "    </tr>\n",
       "    <tr>\n",
       "      <th>2024-05-01</th>\n",
       "      <td>394.940</td>\n",
       "      <td>23562480.0</td>\n",
       "      <td>392.61</td>\n",
       "      <td>401.7199</td>\n",
       "      <td>390.3100</td>\n",
       "    </tr>\n",
       "    <tr>\n",
       "      <th>2024-05-02</th>\n",
       "      <td>397.840</td>\n",
       "      <td>17709360.0</td>\n",
       "      <td>397.66</td>\n",
       "      <td>399.9300</td>\n",
       "      <td>394.6515</td>\n",
       "    </tr>\n",
       "    <tr>\n",
       "      <th>2024-05-03</th>\n",
       "      <td>406.660</td>\n",
       "      <td>17446720.0</td>\n",
       "      <td>402.28</td>\n",
       "      <td>407.1500</td>\n",
       "      <td>401.8600</td>\n",
       "    </tr>\n",
       "  </tbody>\n",
       "</table>\n",
       "<p>2517 rows × 5 columns</p>\n",
       "</div>"
      ],
      "text/plain": [
       "            Close/Last      Volume    Open      High       Low\n",
       "Date                                                          \n",
       "2014-05-06      39.060  27105700.0   39.29   39.3500   38.9500\n",
       "2014-05-07      39.425  41731030.0   39.22   39.5100   38.5100\n",
       "2014-05-08      39.640  32089010.0   39.34   39.9000   38.9700\n",
       "2014-05-09      39.540  29646100.0   39.54   39.8500   39.3700\n",
       "2014-05-12      39.970  22761620.0   39.74   40.0200   39.6500\n",
       "...                ...         ...     ...       ...       ...\n",
       "2024-04-29     402.250  19582090.0  405.25  406.3200  399.1900\n",
       "2024-04-30     389.330  28781370.0  401.49  402.1600  389.1700\n",
       "2024-05-01     394.940  23562480.0  392.61  401.7199  390.3100\n",
       "2024-05-02     397.840  17709360.0  397.66  399.9300  394.6515\n",
       "2024-05-03     406.660  17446720.0  402.28  407.1500  401.8600\n",
       "\n",
       "[2517 rows x 5 columns]"
      ]
     },
     "execution_count": 314,
     "metadata": {},
     "output_type": "execute_result"
    }
   ],
   "source": [
    "microsoft_stock_historical.set_index('Date', inplace=True)\n",
    "microsoft_stock_historical.sort_index(ascending=True, inplace=True)\n",
    "microsoft_stock_historical"
   ]
  },
  {
   "cell_type": "markdown",
   "id": "95ad8e72",
   "metadata": {},
   "source": [
    "## Data preprocessing: Align datetime data\n",
    "\n",
    "Data engineering includes changing data with a datetime component if needed so that different time series can be more easily compared or plotted against each other. \n",
    "\n",
    "In this step:\n",
    "\n",
    "* Align the inflation date so that it falls on the last day of the month instead of the first\n",
    "\n",
    "Helpful hints: \n",
    "* Use the `pandas` `offsets` method using `MonthEnd(0)` to set the 'Date' column to month-end"
   ]
  },
  {
   "cell_type": "code",
   "execution_count": 315,
   "id": "fe782db6",
   "metadata": {},
   "outputs": [],
   "source": [
    "# Align inflation data so that the date is the month end (e.g. Jan 31, Feb 28/28)\n",
    "inflation_data = pd.read_csv('inflation_monthly.csv')\n",
    "inflation_data['DATE'] = pd.to_datetime(inflation_data['DATE'])"
   ]
  },
  {
   "cell_type": "code",
   "execution_count": 316,
   "id": "18c00592",
   "metadata": {},
   "outputs": [],
   "source": [
    "inflation_data['DATE'] = inflation_data['DATE'] + pd.offsets.MonthEnd(0)"
   ]
  },
  {
   "cell_type": "markdown",
   "id": "e072f4a1",
   "metadata": {},
   "source": [
    "## Data preprocessing: Upsample, downsample and interpolate data\n",
    "\n",
    "Inflation data is presented monthly in this dataset. However, for some models, you may need it at a quarterly frequency, and for some models you may need it at a quarterly frequency. \n",
    "\n",
    "In this step:\n",
    "* Create a new quarterly inflation dataframe by downsampling the monthly inflation data to quarterly using the mean (e.g. for quarter 1 in a given year, use the average values from January, February, and March)\n",
    "* Create a new weekly inflation dataframe by upsampling the monthly inflation data. For this, you'll need to use `resample` and then you'll need to `interpolate` to fill in the missing data at the weekly frequency\n",
    "\n",
    "Note that you may need to change the index for some of these operations! "
   ]
  },
  {
   "cell_type": "code",
   "execution_count": 317,
   "id": "d4efc57c",
   "metadata": {},
   "outputs": [
    {
     "data": {
      "application/vnd.microsoft.datawrangler.viewer.v0+json": {
       "columns": [
        {
         "name": "DATE",
         "rawType": "datetime64[ns]",
         "type": "datetime"
        },
        {
         "name": "CORESTICKM159SFRBATL",
         "rawType": "float64",
         "type": "float"
        }
       ],
       "conversionMethod": "pd.DataFrame",
       "ref": "990e5a0e-c234-4f6a-9a8a-e0d5a3b033a6",
       "rows": [
        [
         "1968-01-31 00:00:00",
         "3.65186106"
        ],
        [
         "1968-02-29 00:00:00",
         "3.673819411"
        ],
        [
         "1968-03-31 00:00:00",
         "4.142163975"
        ],
        [
         "1968-04-30 00:00:00",
         "4.155828095"
        ],
        [
         "1968-05-31 00:00:00",
         "4.088245437"
        ],
        [
         "1968-06-30 00:00:00",
         "4.545569347"
        ],
        [
         "1968-07-31 00:00:00",
         "4.753076334"
        ],
        [
         "1968-08-31 00:00:00",
         "4.9466066"
        ],
        [
         "1968-09-30 00:00:00",
         "4.948246979"
        ],
        [
         "1968-10-31 00:00:00",
         "5.182592347"
        ],
        [
         "1968-11-30 00:00:00",
         "5.399387944"
        ],
        [
         "1968-12-31 00:00:00",
         "5.706347843"
        ],
        [
         "1969-01-31 00:00:00",
         "5.746196961"
        ],
        [
         "1969-02-28 00:00:00",
         "5.749956071"
        ],
        [
         "1969-03-31 00:00:00",
         "6.125157849"
        ],
        [
         "1969-04-30 00:00:00",
         "6.505620421"
        ],
        [
         "1969-05-31 00:00:00",
         "6.780633974"
        ],
        [
         "1969-06-30 00:00:00",
         "6.375966005"
        ],
        [
         "1969-07-31 00:00:00",
         "6.389268621"
        ],
        [
         "1969-08-31 00:00:00",
         "6.414746498"
        ],
        [
         "1969-09-30 00:00:00",
         "6.834758299"
        ],
        [
         "1969-10-31 00:00:00",
         "6.560106336"
        ],
        [
         "1969-11-30 00:00:00",
         "6.437390535"
        ],
        [
         "1969-12-31 00:00:00",
         "6.402163808"
        ],
        [
         "1970-01-31 00:00:00",
         "6.592370014"
        ],
        [
         "1970-02-28 00:00:00",
         "7.053805927"
        ],
        [
         "1970-03-31 00:00:00",
         "6.993096123"
        ],
        [
         "1970-04-30 00:00:00",
         "6.817838113"
        ],
        [
         "1970-05-31 00:00:00",
         "6.947734731"
        ],
        [
         "1970-06-30 00:00:00",
         "7.151974844"
        ],
        [
         "1970-07-31 00:00:00",
         "7.00787567"
        ],
        [
         "1970-08-31 00:00:00",
         "7.114872285"
        ],
        [
         "1970-09-30 00:00:00",
         "7.081263039"
        ],
        [
         "1970-10-31 00:00:00",
         "7.057638255"
        ],
        [
         "1970-11-30 00:00:00",
         "7.327620064"
        ],
        [
         "1970-12-31 00:00:00",
         "7.342681298"
        ],
        [
         "1971-01-31 00:00:00",
         "7.014858012"
        ],
        [
         "1971-02-28 00:00:00",
         "6.329604979"
        ],
        [
         "1971-03-31 00:00:00",
         "5.50160847"
        ],
        [
         "1971-04-30 00:00:00",
         "5.306250794"
        ],
        [
         "1971-05-31 00:00:00",
         "5.060279237"
        ],
        [
         "1971-06-30 00:00:00",
         "5.239199701"
        ],
        [
         "1971-07-31 00:00:00",
         "5.165044197"
        ],
        [
         "1971-08-31 00:00:00",
         "4.913620811"
        ],
        [
         "1971-09-30 00:00:00",
         "4.672385308"
        ],
        [
         "1971-10-31 00:00:00",
         "4.376576593"
        ],
        [
         "1971-11-30 00:00:00",
         "3.953153899"
        ],
        [
         "1971-12-31 00:00:00",
         "3.677258309"
        ],
        [
         "1972-01-31 00:00:00",
         "3.728280469"
        ],
        [
         "1972-02-29 00:00:00",
         "3.841502967"
        ]
       ],
       "shape": {
        "columns": 1,
        "rows": 675
       }
      },
      "text/html": [
       "<div>\n",
       "<style scoped>\n",
       "    .dataframe tbody tr th:only-of-type {\n",
       "        vertical-align: middle;\n",
       "    }\n",
       "\n",
       "    .dataframe tbody tr th {\n",
       "        vertical-align: top;\n",
       "    }\n",
       "\n",
       "    .dataframe thead th {\n",
       "        text-align: right;\n",
       "    }\n",
       "</style>\n",
       "<table border=\"1\" class=\"dataframe\">\n",
       "  <thead>\n",
       "    <tr style=\"text-align: right;\">\n",
       "      <th></th>\n",
       "      <th>CORESTICKM159SFRBATL</th>\n",
       "    </tr>\n",
       "    <tr>\n",
       "      <th>DATE</th>\n",
       "      <th></th>\n",
       "    </tr>\n",
       "  </thead>\n",
       "  <tbody>\n",
       "    <tr>\n",
       "      <th>1968-01-31</th>\n",
       "      <td>3.651861</td>\n",
       "    </tr>\n",
       "    <tr>\n",
       "      <th>1968-02-29</th>\n",
       "      <td>3.673819</td>\n",
       "    </tr>\n",
       "    <tr>\n",
       "      <th>1968-03-31</th>\n",
       "      <td>4.142164</td>\n",
       "    </tr>\n",
       "    <tr>\n",
       "      <th>1968-04-30</th>\n",
       "      <td>4.155828</td>\n",
       "    </tr>\n",
       "    <tr>\n",
       "      <th>1968-05-31</th>\n",
       "      <td>4.088245</td>\n",
       "    </tr>\n",
       "    <tr>\n",
       "      <th>...</th>\n",
       "      <td>...</td>\n",
       "    </tr>\n",
       "    <tr>\n",
       "      <th>2023-11-30</th>\n",
       "      <td>4.688293</td>\n",
       "    </tr>\n",
       "    <tr>\n",
       "      <th>2023-12-31</th>\n",
       "      <td>4.554396</td>\n",
       "    </tr>\n",
       "    <tr>\n",
       "      <th>2024-01-31</th>\n",
       "      <td>4.603922</td>\n",
       "    </tr>\n",
       "    <tr>\n",
       "      <th>2024-02-29</th>\n",
       "      <td>4.403102</td>\n",
       "    </tr>\n",
       "    <tr>\n",
       "      <th>2024-03-31</th>\n",
       "      <td>4.509212</td>\n",
       "    </tr>\n",
       "  </tbody>\n",
       "</table>\n",
       "<p>675 rows × 1 columns</p>\n",
       "</div>"
      ],
      "text/plain": [
       "            CORESTICKM159SFRBATL\n",
       "DATE                            \n",
       "1968-01-31              3.651861\n",
       "1968-02-29              3.673819\n",
       "1968-03-31              4.142164\n",
       "1968-04-30              4.155828\n",
       "1968-05-31              4.088245\n",
       "...                          ...\n",
       "2023-11-30              4.688293\n",
       "2023-12-31              4.554396\n",
       "2024-01-31              4.603922\n",
       "2024-02-29              4.403102\n",
       "2024-03-31              4.509212\n",
       "\n",
       "[675 rows x 1 columns]"
      ]
     },
     "execution_count": 317,
     "metadata": {},
     "output_type": "execute_result"
    }
   ],
   "source": [
    "inflation_data.set_index('DATE', inplace=True)\n",
    "inflation_data.sort_index(ascending=True, inplace=True)\n",
    "inflation_data"
   ]
  },
  {
   "cell_type": "code",
   "execution_count": 318,
   "id": "28fea2f6",
   "metadata": {},
   "outputs": [],
   "source": [
    "# Upsample and interpolate from monthly to weekly \n",
    "inflation_data_weekly = inflation_data.resample('W').interpolate(method='linear').reset_index()"
   ]
  },
  {
   "cell_type": "code",
   "execution_count": 319,
   "id": "635647a1",
   "metadata": {},
   "outputs": [
    {
     "name": "stderr",
     "output_type": "stream",
     "text": [
      "/tmp/ipykernel_1984892/3437102634.py:2: FutureWarning: 'Q' is deprecated and will be removed in a future version, please use 'QE' instead.\n",
      "  inflation_data_quaterly = inflation_data.resample('Q').interpolate(method='linear').reset_index()\n"
     ]
    }
   ],
   "source": [
    "# Downsample from monthly to quarterly \n",
    "inflation_data_quaterly = inflation_data.resample('Q').interpolate(method='linear').reset_index()"
   ]
  },
  {
   "cell_type": "code",
   "execution_count": 320,
   "id": "38a72457",
   "metadata": {},
   "outputs": [
    {
     "data": {
      "application/vnd.microsoft.datawrangler.viewer.v0+json": {
       "columns": [
        {
         "name": "index",
         "rawType": "int64",
         "type": "integer"
        },
        {
         "name": "DATE",
         "rawType": "datetime64[ns]",
         "type": "datetime"
        },
        {
         "name": "CORESTICKM159SFRBATL",
         "rawType": "float64",
         "type": "float"
        }
       ],
       "conversionMethod": "pd.DataFrame",
       "ref": "af49fc45-36d2-43fc-824f-278a3d17eb6a",
       "rows": [
        [
         "0",
         "1968-03-31 00:00:00",
         "4.142163975"
        ],
        [
         "1",
         "1968-06-30 00:00:00",
         "4.545569347"
        ],
        [
         "2",
         "1968-09-30 00:00:00",
         "4.948246979"
        ],
        [
         "3",
         "1968-12-31 00:00:00",
         "5.706347843"
        ],
        [
         "4",
         "1969-03-31 00:00:00",
         "6.125157849"
        ],
        [
         "5",
         "1969-06-30 00:00:00",
         "6.375966005"
        ],
        [
         "6",
         "1969-09-30 00:00:00",
         "6.834758299"
        ],
        [
         "7",
         "1969-12-31 00:00:00",
         "6.402163808"
        ],
        [
         "8",
         "1970-03-31 00:00:00",
         "6.993096123"
        ],
        [
         "9",
         "1970-06-30 00:00:00",
         "7.151974844"
        ],
        [
         "10",
         "1970-09-30 00:00:00",
         "7.081263039"
        ],
        [
         "11",
         "1970-12-31 00:00:00",
         "7.342681298"
        ],
        [
         "12",
         "1971-03-31 00:00:00",
         "5.50160847"
        ],
        [
         "13",
         "1971-06-30 00:00:00",
         "5.239199701"
        ],
        [
         "14",
         "1971-09-30 00:00:00",
         "4.672385308"
        ],
        [
         "15",
         "1971-12-31 00:00:00",
         "3.677258309"
        ],
        [
         "16",
         "1972-03-31 00:00:00",
         "4.057916253"
        ],
        [
         "17",
         "1972-06-30 00:00:00",
         "3.488589959"
        ],
        [
         "18",
         "1972-09-30 00:00:00",
         "3.1247262"
        ],
        [
         "19",
         "1972-12-31 00:00:00",
         "3.147816809"
        ],
        [
         "20",
         "1973-03-31 00:00:00",
         "2.929374136"
        ],
        [
         "21",
         "1973-06-30 00:00:00",
         "3.098743668"
        ],
        [
         "22",
         "1973-09-30 00:00:00",
         "3.944607922"
        ],
        [
         "23",
         "1973-12-31 00:00:00",
         "5.30805948"
        ],
        [
         "24",
         "1974-03-31 00:00:00",
         "6.816162733"
        ],
        [
         "25",
         "1974-06-30 00:00:00",
         "8.616369341"
        ],
        [
         "26",
         "1974-09-30 00:00:00",
         "10.593110106"
        ],
        [
         "27",
         "1974-12-31 00:00:00",
         "11.496042915"
        ],
        [
         "28",
         "1975-03-31 00:00:00",
         "11.573788456"
        ],
        [
         "29",
         "1975-06-30 00:00:00",
         "10.432971739"
        ],
        [
         "30",
         "1975-09-30 00:00:00",
         "8.520421165"
        ],
        [
         "31",
         "1975-12-31 00:00:00",
         "7.685189103"
        ],
        [
         "32",
         "1976-03-31 00:00:00",
         "7.334813689"
        ],
        [
         "33",
         "1976-06-30 00:00:00",
         "6.871017008"
        ],
        [
         "34",
         "1976-09-30 00:00:00",
         "7.092183496"
        ],
        [
         "35",
         "1976-12-31 00:00:00",
         "6.196677638"
        ],
        [
         "36",
         "1977-03-31 00:00:00",
         "6.102888398"
        ],
        [
         "37",
         "1977-06-30 00:00:00",
         "6.920217354"
        ],
        [
         "38",
         "1977-09-30 00:00:00",
         "6.873489359"
        ],
        [
         "39",
         "1977-12-31 00:00:00",
         "7.363992642"
        ],
        [
         "40",
         "1978-03-31 00:00:00",
         "7.433603181"
        ],
        [
         "41",
         "1978-06-30 00:00:00",
         "7.679164103"
        ],
        [
         "42",
         "1978-09-30 00:00:00",
         "8.576148162"
        ],
        [
         "43",
         "1978-12-31 00:00:00",
         "9.058012586"
        ],
        [
         "44",
         "1979-03-31 00:00:00",
         "9.675145162"
        ],
        [
         "45",
         "1979-06-30 00:00:00",
         "10.269173247"
        ],
        [
         "46",
         "1979-09-30 00:00:00",
         "10.98372295"
        ],
        [
         "47",
         "1979-12-31 00:00:00",
         "12.734186684"
        ],
        [
         "48",
         "1980-03-31 00:00:00",
         "14.331667424"
        ],
        [
         "49",
         "1980-06-30 00:00:00",
         "15.774166719"
        ]
       ],
       "shape": {
        "columns": 2,
        "rows": 225
       }
      },
      "text/html": [
       "<div>\n",
       "<style scoped>\n",
       "    .dataframe tbody tr th:only-of-type {\n",
       "        vertical-align: middle;\n",
       "    }\n",
       "\n",
       "    .dataframe tbody tr th {\n",
       "        vertical-align: top;\n",
       "    }\n",
       "\n",
       "    .dataframe thead th {\n",
       "        text-align: right;\n",
       "    }\n",
       "</style>\n",
       "<table border=\"1\" class=\"dataframe\">\n",
       "  <thead>\n",
       "    <tr style=\"text-align: right;\">\n",
       "      <th></th>\n",
       "      <th>DATE</th>\n",
       "      <th>CORESTICKM159SFRBATL</th>\n",
       "    </tr>\n",
       "  </thead>\n",
       "  <tbody>\n",
       "    <tr>\n",
       "      <th>0</th>\n",
       "      <td>1968-03-31</td>\n",
       "      <td>4.142164</td>\n",
       "    </tr>\n",
       "    <tr>\n",
       "      <th>1</th>\n",
       "      <td>1968-06-30</td>\n",
       "      <td>4.545569</td>\n",
       "    </tr>\n",
       "    <tr>\n",
       "      <th>2</th>\n",
       "      <td>1968-09-30</td>\n",
       "      <td>4.948247</td>\n",
       "    </tr>\n",
       "    <tr>\n",
       "      <th>3</th>\n",
       "      <td>1968-12-31</td>\n",
       "      <td>5.706348</td>\n",
       "    </tr>\n",
       "    <tr>\n",
       "      <th>4</th>\n",
       "      <td>1969-03-31</td>\n",
       "      <td>6.125158</td>\n",
       "    </tr>\n",
       "    <tr>\n",
       "      <th>...</th>\n",
       "      <td>...</td>\n",
       "      <td>...</td>\n",
       "    </tr>\n",
       "    <tr>\n",
       "      <th>220</th>\n",
       "      <td>2023-03-31</td>\n",
       "      <td>6.390946</td>\n",
       "    </tr>\n",
       "    <tr>\n",
       "      <th>221</th>\n",
       "      <td>2023-06-30</td>\n",
       "      <td>5.586684</td>\n",
       "    </tr>\n",
       "    <tr>\n",
       "      <th>222</th>\n",
       "      <td>2023-09-30</td>\n",
       "      <td>4.959770</td>\n",
       "    </tr>\n",
       "    <tr>\n",
       "      <th>223</th>\n",
       "      <td>2023-12-31</td>\n",
       "      <td>4.554396</td>\n",
       "    </tr>\n",
       "    <tr>\n",
       "      <th>224</th>\n",
       "      <td>2024-03-31</td>\n",
       "      <td>4.509212</td>\n",
       "    </tr>\n",
       "  </tbody>\n",
       "</table>\n",
       "<p>225 rows × 2 columns</p>\n",
       "</div>"
      ],
      "text/plain": [
       "          DATE  CORESTICKM159SFRBATL\n",
       "0   1968-03-31              4.142164\n",
       "1   1968-06-30              4.545569\n",
       "2   1968-09-30              4.948247\n",
       "3   1968-12-31              5.706348\n",
       "4   1969-03-31              6.125158\n",
       "..         ...                   ...\n",
       "220 2023-03-31              6.390946\n",
       "221 2023-06-30              5.586684\n",
       "222 2023-09-30              4.959770\n",
       "223 2023-12-31              4.554396\n",
       "224 2024-03-31              4.509212\n",
       "\n",
       "[225 rows x 2 columns]"
      ]
     },
     "execution_count": 320,
     "metadata": {},
     "output_type": "execute_result"
    }
   ],
   "source": [
    "inflation_data_quaterly"
   ]
  },
  {
   "cell_type": "markdown",
   "id": "0ea82443",
   "metadata": {},
   "source": [
    "## Data preprocessing: Normalize/standardize a feature\n",
    "\n",
    "Economic time series data often involve variables measured on different scales (e.g., GDP in trillions of dollars, inflation in percentage points). Standardizing these variables (typically by subtracting the mean and dividing by the standard deviation) puts them on a common scale, allowing for meaningful comparisons and analyses.\n",
    "\n",
    "Your task:\n",
    "* Standardize the GDP data. You may do this manually by subtracting the mean and dividing by the standard deviation, or you may use a built-in method from a library like `sklearn`'s `StandardScaler`"
   ]
  },
  {
   "cell_type": "code",
   "execution_count": 321,
   "id": "4f88d246",
   "metadata": {},
   "outputs": [],
   "source": [
    "# Standardize the GDP measure\n",
    "from sklearn.preprocessing import StandardScaler\n",
    "scaler = StandardScaler()\n",
    "gdp_data['GDP_std'] = scaler.fit_transform(gdp_data[['GDP']])\n"
   ]
  },
  {
   "cell_type": "code",
   "execution_count": 322,
   "id": "e4801c53",
   "metadata": {},
   "outputs": [
    {
     "data": {
      "application/vnd.microsoft.datawrangler.viewer.v0+json": {
       "columns": [
        {
         "name": "index",
         "rawType": "int64",
         "type": "integer"
        },
        {
         "name": "DATE",
         "rawType": "object",
         "type": "string"
        },
        {
         "name": "GDP",
         "rawType": "float64",
         "type": "float"
        },
        {
         "name": "GDP_std",
         "rawType": "float64",
         "type": "float"
        }
       ],
       "conversionMethod": "pd.DataFrame",
       "ref": "1d3e1bc7-3e19-49e6-a491-9301c32dada0",
       "rows": [
        [
         "0",
         "1947-01-01",
         "243.164",
         "-0.9354963678975644"
        ],
        [
         "1",
         "1947-04-01",
         "245.968",
         "-0.9351208080630812"
        ],
        [
         "2",
         "1947-07-01",
         "249.585",
         "-0.9346363573065456"
        ],
        [
         "3",
         "1947-10-01",
         "259.745",
         "-0.9332755556238247"
        ],
        [
         "4",
         "1948-01-01",
         "265.742",
         "-0.9324723343943683"
        ],
        [
         "5",
         "1948-04-01",
         "272.567",
         "-0.9315582131852571"
        ],
        [
         "6",
         "1948-07-01",
         "279.196",
         "-0.9306703436621512"
        ],
        [
         "7",
         "1948-10-01",
         "280.366",
         "-0.9305136371691607"
        ],
        [
         "8",
         "1949-01-01",
         "275.034",
         "-0.9312277901782422"
        ],
        [
         "9",
         "1949-04-01",
         "271.351",
         "-0.9317210807882285"
        ],
        [
         "10",
         "1949-07-01",
         "272.889",
         "-0.9315150854153913"
        ],
        [
         "11",
         "1949-10-01",
         "270.627",
         "-0.9318180513018396"
        ],
        [
         "12",
         "1950-01-01",
         "280.828",
         "-0.9304517581950054"
        ],
        [
         "13",
         "1950-04-01",
         "290.383",
         "-0.9291719885022498"
        ],
        [
         "14",
         "1950-07-01",
         "308.153",
         "-0.9267919249292231"
        ],
        [
         "15",
         "1950-10-01",
         "319.945",
         "-0.9252125377793566"
        ],
        [
         "16",
         "1951-01-01",
         "336.0",
         "-0.9230621764588759"
        ],
        [
         "17",
         "1951-04-01",
         "344.09",
         "-0.921978624725292"
        ],
        [
         "18",
         "1951-07-01",
         "351.385",
         "-0.9210015530446376"
        ],
        [
         "19",
         "1951-10-01",
         "356.178",
         "-0.9203595921720706"
        ],
        [
         "20",
         "1952-01-01",
         "359.82",
         "-0.9198717929861977"
        ],
        [
         "21",
         "1952-04-01",
         "361.03",
         "-0.9197097290062674"
        ],
        [
         "22",
         "1952-07-01",
         "367.701",
         "-0.9188162341218745"
        ],
        [
         "23",
         "1952-10-01",
         "380.812",
         "-0.9170601838401665"
        ],
        [
         "24",
         "1953-01-01",
         "387.98",
         "-0.916100122180546"
        ],
        [
         "25",
         "1953-04-01",
         "391.749",
         "-0.9155953129736392"
        ],
        [
         "26",
         "1953-07-01",
         "391.171",
         "-0.9156727286599199"
        ],
        [
         "27",
         "1953-10-01",
         "385.97",
         "-0.9163693358992734"
        ],
        [
         "28",
         "1954-01-01",
         "385.345",
         "-0.9164530466327084"
        ],
        [
         "29",
         "1954-04-01",
         "386.121",
         "-0.9163491113860754"
        ],
        [
         "30",
         "1954-07-01",
         "390.996",
         "-0.9156961676652817"
        ],
        [
         "31",
         "1954-10-01",
         "399.734",
         "-0.9145258246432724"
        ],
        [
         "32",
         "1955-01-01",
         "413.073",
         "-0.9127392366860072"
        ],
        [
         "33",
         "1955-04-01",
         "421.532",
         "-0.9116062621354033"
        ],
        [
         "34",
         "1955-07-01",
         "430.221",
         "-0.9104424820348953"
        ],
        [
         "35",
         "1955-10-01",
         "437.092",
         "-0.9095221997158033"
        ],
        [
         "36",
         "1956-01-01",
         "439.746",
         "-0.9091667304573445"
        ],
        [
         "37",
         "1956-04-01",
         "446.01",
         "-0.9083277480025647"
        ],
        [
         "38",
         "1956-07-01",
         "451.191",
         "-0.9076338195066811"
        ],
        [
         "39",
         "1956-10-01",
         "460.463",
         "-0.9063919540340248"
        ],
        [
         "40",
         "1957-01-01",
         "469.779",
         "-0.9051441953257348"
        ],
        [
         "41",
         "1957-04-01",
         "472.025",
         "-0.9048433724340624"
        ],
        [
         "42",
         "1957-07-01",
         "479.49",
         "-0.9038435314339136"
        ],
        [
         "43",
         "1957-10-01",
         "474.864",
         "-0.9044631247985069"
        ],
        [
         "44",
         "1958-01-01",
         "467.54",
         "-0.9054440806571926"
        ],
        [
         "45",
         "1958-04-01",
         "471.978",
         "-0.9048496674812166"
        ],
        [
         "46",
         "1958-07-01",
         "485.841",
         "-0.9029928964450396"
        ],
        [
         "47",
         "1958-10-01",
         "499.555",
         "-0.9011560820477134"
        ],
        [
         "48",
         "1959-01-01",
         "510.33",
         "-0.8997129090032924"
        ],
        [
         "49",
         "1959-04-01",
         "522.653",
         "-0.8980624012142993"
        ]
       ],
       "shape": {
        "columns": 3,
        "rows": 309
       }
      },
      "text/html": [
       "<div>\n",
       "<style scoped>\n",
       "    .dataframe tbody tr th:only-of-type {\n",
       "        vertical-align: middle;\n",
       "    }\n",
       "\n",
       "    .dataframe tbody tr th {\n",
       "        vertical-align: top;\n",
       "    }\n",
       "\n",
       "    .dataframe thead th {\n",
       "        text-align: right;\n",
       "    }\n",
       "</style>\n",
       "<table border=\"1\" class=\"dataframe\">\n",
       "  <thead>\n",
       "    <tr style=\"text-align: right;\">\n",
       "      <th></th>\n",
       "      <th>DATE</th>\n",
       "      <th>GDP</th>\n",
       "      <th>GDP_std</th>\n",
       "    </tr>\n",
       "  </thead>\n",
       "  <tbody>\n",
       "    <tr>\n",
       "      <th>0</th>\n",
       "      <td>1947-01-01</td>\n",
       "      <td>243.164</td>\n",
       "      <td>-0.935496</td>\n",
       "    </tr>\n",
       "    <tr>\n",
       "      <th>1</th>\n",
       "      <td>1947-04-01</td>\n",
       "      <td>245.968</td>\n",
       "      <td>-0.935121</td>\n",
       "    </tr>\n",
       "    <tr>\n",
       "      <th>2</th>\n",
       "      <td>1947-07-01</td>\n",
       "      <td>249.585</td>\n",
       "      <td>-0.934636</td>\n",
       "    </tr>\n",
       "    <tr>\n",
       "      <th>3</th>\n",
       "      <td>1947-10-01</td>\n",
       "      <td>259.745</td>\n",
       "      <td>-0.933276</td>\n",
       "    </tr>\n",
       "    <tr>\n",
       "      <th>4</th>\n",
       "      <td>1948-01-01</td>\n",
       "      <td>265.742</td>\n",
       "      <td>-0.932472</td>\n",
       "    </tr>\n",
       "    <tr>\n",
       "      <th>...</th>\n",
       "      <td>...</td>\n",
       "      <td>...</td>\n",
       "      <td>...</td>\n",
       "    </tr>\n",
       "    <tr>\n",
       "      <th>304</th>\n",
       "      <td>2023-01-01</td>\n",
       "      <td>26813.601</td>\n",
       "      <td>2.623273</td>\n",
       "    </tr>\n",
       "    <tr>\n",
       "      <th>305</th>\n",
       "      <td>2023-04-01</td>\n",
       "      <td>27063.012</td>\n",
       "      <td>2.656678</td>\n",
       "    </tr>\n",
       "    <tr>\n",
       "      <th>306</th>\n",
       "      <td>2023-07-01</td>\n",
       "      <td>27610.128</td>\n",
       "      <td>2.729957</td>\n",
       "    </tr>\n",
       "    <tr>\n",
       "      <th>307</th>\n",
       "      <td>2023-10-01</td>\n",
       "      <td>27956.998</td>\n",
       "      <td>2.776416</td>\n",
       "    </tr>\n",
       "    <tr>\n",
       "      <th>308</th>\n",
       "      <td>2024-01-01</td>\n",
       "      <td>28284.498</td>\n",
       "      <td>2.820281</td>\n",
       "    </tr>\n",
       "  </tbody>\n",
       "</table>\n",
       "<p>309 rows × 3 columns</p>\n",
       "</div>"
      ],
      "text/plain": [
       "           DATE        GDP   GDP_std\n",
       "0    1947-01-01    243.164 -0.935496\n",
       "1    1947-04-01    245.968 -0.935121\n",
       "2    1947-07-01    249.585 -0.934636\n",
       "3    1947-10-01    259.745 -0.933276\n",
       "4    1948-01-01    265.742 -0.932472\n",
       "..          ...        ...       ...\n",
       "304  2023-01-01  26813.601  2.623273\n",
       "305  2023-04-01  27063.012  2.656678\n",
       "306  2023-07-01  27610.128  2.729957\n",
       "307  2023-10-01  27956.998  2.776416\n",
       "308  2024-01-01  28284.498  2.820281\n",
       "\n",
       "[309 rows x 3 columns]"
      ]
     },
     "execution_count": 322,
     "metadata": {},
     "output_type": "execute_result"
    }
   ],
   "source": [
    "# Check the dataframe to make sure the calculation worked as expected \n",
    "gdp_data\n"
   ]
  },
  {
   "cell_type": "markdown",
   "id": "1f1a89d2",
   "metadata": {},
   "source": [
    "## EDA: Plotting a time series of adjusted open vs close price\n",
    "\n",
    "As part of your EDA, you'll frequently want to plot two time series on the same graph and using the same axis to compare their movements. \n",
    "\n",
    "Your task:\n",
    "* Plot the Apple open and close price time series on the same chart **for the last three months only**. Be sure to use a legend to label each line\n",
    "\n",
    "**NOTE**: This is a large dataset. If you try to plot the entire series, your graph will be hard to interpret and may take a long time to plot. Be sure to use only the most recent three months of data. "
   ]
  },
  {
   "cell_type": "code",
   "execution_count": 323,
   "id": "40a37491",
   "metadata": {},
   "outputs": [
    {
     "data": {
      "application/vnd.microsoft.datawrangler.viewer.v0+json": {
       "columns": [
        {
         "name": "Date",
         "rawType": "datetime64[ns]",
         "type": "datetime"
        },
        {
         "name": "Close/Last",
         "rawType": "float64",
         "type": "float"
        },
        {
         "name": "Volume",
         "rawType": "float64",
         "type": "float"
        },
        {
         "name": "Open",
         "rawType": "float64",
         "type": "float"
        },
        {
         "name": "High",
         "rawType": "float64",
         "type": "float"
        },
        {
         "name": "Low",
         "rawType": "float64",
         "type": "float"
        }
       ],
       "conversionMethod": "pd.DataFrame",
       "ref": "58494ad1-9c53-43e5-830a-51766410ab7d",
       "rows": [
        [
         "2014-05-06 00:00:00",
         "21.23",
         "373872650.0",
         "21.49",
         "21.59",
         "21.23"
        ],
        [
         "2014-05-07 00:00:00",
         "21.15",
         "282128727.0",
         "21.26",
         "21.33",
         "20.99"
        ],
        [
         "2014-05-08 00:00:00",
         "21.0",
         "228973884.0",
         "21.01",
         "21.23",
         "20.94"
        ],
        [
         "2014-05-09 00:00:00",
         "20.91",
         "291068564.0",
         "20.88",
         "20.94",
         "20.73"
        ],
        [
         "2014-05-12 00:00:00",
         "21.17",
         "212736019.0",
         "20.98",
         "21.2",
         "20.98"
        ],
        [
         "2014-05-13 00:00:00",
         "21.21",
         "159417936.0",
         "21.14",
         "21.23",
         "21.1"
        ],
        [
         "2014-05-14 00:00:00",
         "21.21",
         "166020698.0",
         "21.16",
         "21.34",
         "21.13"
        ],
        [
         "2014-05-15 00:00:00",
         "21.03",
         "229710816.0",
         "21.24",
         "21.31",
         "21.0"
        ],
        [
         "2014-05-16 00:00:00",
         "21.34",
         "275840350.0",
         "21.02",
         "21.34",
         "20.91"
        ],
        [
         "2014-05-19 00:00:00",
         "21.59",
         "315279314.0",
         "21.35",
         "21.69",
         "21.33"
        ],
        [
         "2014-05-20 00:00:00",
         "21.6",
         "232929331.0",
         "21.59",
         "21.66",
         "21.45"
        ],
        [
         "2014-05-21 00:00:00",
         "21.65",
         "196739793.0",
         "21.57",
         "21.67",
         "21.5"
        ],
        [
         "2014-05-22 00:00:00",
         "21.69",
         "200570528.0",
         "21.66",
         "21.78",
         "21.58"
        ],
        [
         "2014-05-23 00:00:00",
         "21.93",
         "231673307.0",
         "21.69",
         "21.95",
         "21.66"
        ],
        [
         "2014-05-27 00:00:00",
         "22.34",
         "347361701.0",
         "22.0",
         "22.35",
         "21.99"
        ],
        [
         "2014-05-28 00:00:00",
         "22.29",
         "315174594.0",
         "22.36",
         "22.49",
         "22.28"
        ],
        [
         "2014-05-29 00:00:00",
         "22.69",
         "374950650.0",
         "22.42",
         "22.75",
         "22.42"
        ],
        [
         "2014-05-30 00:00:00",
         "22.61",
         "563440415.0",
         "22.79",
         "23.01",
         "22.46"
        ],
        [
         "2014-06-02 00:00:00",
         "22.45",
         "368718413.0",
         "22.64",
         "22.67",
         "22.23"
        ],
        [
         "2014-06-03 00:00:00",
         "22.77",
         "292173443.0",
         "22.45",
         "22.81",
         "22.44"
        ],
        [
         "2014-06-04 00:00:00",
         "23.03",
         "334940906.0",
         "22.77",
         "23.14",
         "22.72"
        ],
        [
         "2014-06-05 00:00:00",
         "23.12",
         "303186119.0",
         "23.08",
         "23.19",
         "22.95"
        ],
        [
         "2014-06-06 00:00:00",
         "23.06",
         "349612060.0",
         "23.21",
         "23.26",
         "23.02"
        ],
        [
         "2014-06-09 00:00:00",
         "23.43",
         "301181800.0",
         "23.18",
         "23.47",
         "22.94"
        ],
        [
         "2014-06-10 00:00:00",
         "23.56",
         "250252280.0",
         "23.68",
         "23.76",
         "23.39"
        ],
        [
         "2014-06-11 00:00:00",
         "23.47",
         "182114960.0",
         "23.53",
         "23.69",
         "23.37"
        ],
        [
         "2014-06-12 00:00:00",
         "23.07",
         "218514600.0",
         "23.51",
         "23.53",
         "22.98"
        ],
        [
         "2014-06-13 00:00:00",
         "22.82",
         "217626560.0",
         "23.05",
         "23.11",
         "22.72"
        ],
        [
         "2014-06-16 00:00:00",
         "23.05",
         "141485840.0",
         "22.88",
         "23.19",
         "22.86"
        ],
        [
         "2014-06-17 00:00:00",
         "23.02",
         "118738480.0",
         "23.08",
         "23.18",
         "22.95"
        ],
        [
         "2014-06-18 00:00:00",
         "23.05",
         "133258880.0",
         "23.07",
         "23.07",
         "22.84"
        ],
        [
         "2014-06-19 00:00:00",
         "22.97",
         "141904320.0",
         "23.07",
         "23.08",
         "22.83"
        ],
        [
         "2014-06-20 00:00:00",
         "22.73",
         "401914400.0",
         "22.96",
         "23.14",
         "22.73"
        ],
        [
         "2014-06-23 00:00:00",
         "22.71",
         "174446840.0",
         "22.83",
         "22.91",
         "22.65"
        ],
        [
         "2014-06-24 00:00:00",
         "22.57",
         "155910680.0",
         "22.69",
         "22.94",
         "22.55"
        ],
        [
         "2014-06-25 00:00:00",
         "22.59",
         "147343600.0",
         "22.55",
         "22.68",
         "22.41"
        ],
        [
         "2014-06-26 00:00:00",
         "22.73",
         "130114720.0",
         "22.59",
         "22.76",
         "22.45"
        ],
        [
         "2014-06-27 00:00:00",
         "23.0",
         "247032800.0",
         "22.71",
         "23.0",
         "22.69"
        ],
        [
         "2014-06-30 00:00:00",
         "23.23",
         "197896920.0",
         "23.03",
         "23.43",
         "23.02"
        ],
        [
         "2014-07-01 00:00:00",
         "23.38",
         "152625120.0",
         "23.38",
         "23.52",
         "23.28"
        ],
        [
         "2014-07-02 00:00:00",
         "23.37",
         "113657240.0",
         "23.47",
         "23.52",
         "23.27"
        ],
        [
         "2014-07-03 00:00:00",
         "23.51",
         "91567000.0",
         "23.42",
         "23.53",
         "23.3"
        ],
        [
         "2014-07-07 00:00:00",
         "23.99",
         "219236120.0",
         "23.54",
         "24.0",
         "23.53"
        ],
        [
         "2014-07-08 00:00:00",
         "23.84",
         "260447840.0",
         "24.07",
         "24.2",
         "23.48"
        ],
        [
         "2014-07-09 00:00:00",
         "23.85",
         "145069400.0",
         "23.86",
         "23.99",
         "23.69"
        ],
        [
         "2014-07-10 00:00:00",
         "23.76",
         "158535200.0",
         "23.44",
         "23.89",
         "23.38"
        ],
        [
         "2014-07-11 00:00:00",
         "23.81",
         "135841200.0",
         "23.84",
         "23.97",
         "23.72"
        ],
        [
         "2014-07-14 00:00:00",
         "24.11",
         "170575040.0",
         "23.97",
         "24.22",
         "23.91"
        ],
        [
         "2014-07-15 00:00:00",
         "23.83",
         "180749680.0",
         "24.2",
         "24.21",
         "23.76"
        ],
        [
         "2014-07-16 00:00:00",
         "23.7",
         "213295760.0",
         "24.24",
         "24.28",
         "23.69"
        ]
       ],
       "shape": {
        "columns": 5,
        "rows": 2517
       }
      },
      "text/html": [
       "<div>\n",
       "<style scoped>\n",
       "    .dataframe tbody tr th:only-of-type {\n",
       "        vertical-align: middle;\n",
       "    }\n",
       "\n",
       "    .dataframe tbody tr th {\n",
       "        vertical-align: top;\n",
       "    }\n",
       "\n",
       "    .dataframe thead th {\n",
       "        text-align: right;\n",
       "    }\n",
       "</style>\n",
       "<table border=\"1\" class=\"dataframe\">\n",
       "  <thead>\n",
       "    <tr style=\"text-align: right;\">\n",
       "      <th></th>\n",
       "      <th>Close/Last</th>\n",
       "      <th>Volume</th>\n",
       "      <th>Open</th>\n",
       "      <th>High</th>\n",
       "      <th>Low</th>\n",
       "    </tr>\n",
       "    <tr>\n",
       "      <th>Date</th>\n",
       "      <th></th>\n",
       "      <th></th>\n",
       "      <th></th>\n",
       "      <th></th>\n",
       "      <th></th>\n",
       "    </tr>\n",
       "  </thead>\n",
       "  <tbody>\n",
       "    <tr>\n",
       "      <th>2014-05-06</th>\n",
       "      <td>21.23</td>\n",
       "      <td>373872650.0</td>\n",
       "      <td>21.49</td>\n",
       "      <td>21.59</td>\n",
       "      <td>21.23</td>\n",
       "    </tr>\n",
       "    <tr>\n",
       "      <th>2014-05-07</th>\n",
       "      <td>21.15</td>\n",
       "      <td>282128727.0</td>\n",
       "      <td>21.26</td>\n",
       "      <td>21.33</td>\n",
       "      <td>20.99</td>\n",
       "    </tr>\n",
       "    <tr>\n",
       "      <th>2014-05-08</th>\n",
       "      <td>21.00</td>\n",
       "      <td>228973884.0</td>\n",
       "      <td>21.01</td>\n",
       "      <td>21.23</td>\n",
       "      <td>20.94</td>\n",
       "    </tr>\n",
       "    <tr>\n",
       "      <th>2014-05-09</th>\n",
       "      <td>20.91</td>\n",
       "      <td>291068564.0</td>\n",
       "      <td>20.88</td>\n",
       "      <td>20.94</td>\n",
       "      <td>20.73</td>\n",
       "    </tr>\n",
       "    <tr>\n",
       "      <th>2014-05-12</th>\n",
       "      <td>21.17</td>\n",
       "      <td>212736019.0</td>\n",
       "      <td>20.98</td>\n",
       "      <td>21.20</td>\n",
       "      <td>20.98</td>\n",
       "    </tr>\n",
       "    <tr>\n",
       "      <th>...</th>\n",
       "      <td>...</td>\n",
       "      <td>...</td>\n",
       "      <td>...</td>\n",
       "      <td>...</td>\n",
       "      <td>...</td>\n",
       "    </tr>\n",
       "    <tr>\n",
       "      <th>2024-04-29</th>\n",
       "      <td>173.50</td>\n",
       "      <td>68169420.0</td>\n",
       "      <td>173.37</td>\n",
       "      <td>176.03</td>\n",
       "      <td>173.10</td>\n",
       "    </tr>\n",
       "    <tr>\n",
       "      <th>2024-04-30</th>\n",
       "      <td>170.33</td>\n",
       "      <td>65934780.0</td>\n",
       "      <td>173.33</td>\n",
       "      <td>174.99</td>\n",
       "      <td>170.00</td>\n",
       "    </tr>\n",
       "    <tr>\n",
       "      <th>2024-05-01</th>\n",
       "      <td>169.30</td>\n",
       "      <td>50383150.0</td>\n",
       "      <td>169.58</td>\n",
       "      <td>172.71</td>\n",
       "      <td>169.11</td>\n",
       "    </tr>\n",
       "    <tr>\n",
       "      <th>2024-05-02</th>\n",
       "      <td>173.03</td>\n",
       "      <td>94214920.0</td>\n",
       "      <td>172.51</td>\n",
       "      <td>173.42</td>\n",
       "      <td>170.89</td>\n",
       "    </tr>\n",
       "    <tr>\n",
       "      <th>2024-05-03</th>\n",
       "      <td>183.38</td>\n",
       "      <td>163224100.0</td>\n",
       "      <td>186.65</td>\n",
       "      <td>187.00</td>\n",
       "      <td>182.66</td>\n",
       "    </tr>\n",
       "  </tbody>\n",
       "</table>\n",
       "<p>2517 rows × 5 columns</p>\n",
       "</div>"
      ],
      "text/plain": [
       "            Close/Last       Volume    Open    High     Low\n",
       "Date                                                       \n",
       "2014-05-06       21.23  373872650.0   21.49   21.59   21.23\n",
       "2014-05-07       21.15  282128727.0   21.26   21.33   20.99\n",
       "2014-05-08       21.00  228973884.0   21.01   21.23   20.94\n",
       "2014-05-09       20.91  291068564.0   20.88   20.94   20.73\n",
       "2014-05-12       21.17  212736019.0   20.98   21.20   20.98\n",
       "...                ...          ...     ...     ...     ...\n",
       "2024-04-29      173.50   68169420.0  173.37  176.03  173.10\n",
       "2024-04-30      170.33   65934780.0  173.33  174.99  170.00\n",
       "2024-05-01      169.30   50383150.0  169.58  172.71  169.11\n",
       "2024-05-02      173.03   94214920.0  172.51  173.42  170.89\n",
       "2024-05-03      183.38  163224100.0  186.65  187.00  182.66\n",
       "\n",
       "[2517 rows x 5 columns]"
      ]
     },
     "execution_count": 323,
     "metadata": {},
     "output_type": "execute_result"
    }
   ],
   "source": [
    "apple_stock_historical"
   ]
  },
  {
   "cell_type": "code",
   "execution_count": 324,
   "id": "9b490f9b",
   "metadata": {},
   "outputs": [],
   "source": [
    "# Get max date in timeseries\n",
    "end_date = apple_stock_historical.index.max()\n"
   ]
  },
  {
   "cell_type": "code",
   "execution_count": 325,
   "id": "03b51a20",
   "metadata": {},
   "outputs": [],
   "source": [
    "# Use the max date calculated above to get the last three months of data in the dataset \n",
    "start_date = end_date - pd.DateOffset(months=3)\n",
    "apple_stock_3m = apple_stock_historical[apple_stock_historical.index >= start_date]\n"
   ]
  },
  {
   "cell_type": "code",
   "execution_count": 326,
   "id": "039404e1",
   "metadata": {},
   "outputs": [
    {
     "data": {
      "image/png": "[encoded data removed]",
      "text/plain": [
       "<Figure size 1400x700 with 1 Axes>"
      ]
     },
     "metadata": {},
     "output_type": "display_data"
    }
   ],
   "source": [
    "# Plot time series of open v. close stock price for Apple using the last 3 months of data\n",
    "plt.figure(figsize=(14, 7))\n",
    "plt.plot(apple_stock_3m.index, apple_stock_3m['Open'], label='Open Price', color='blue')\n",
    "plt.plot(apple_stock_3m.index, apple_stock_3m['Close/Last'], label='Close Price', color='orange')\n",
    "plt.title('Apple Stock Price - Last 3 Months')\n",
    "plt.xlabel('Date')\n",
    "plt.ylabel('Price')\n",
    "plt.legend()\n",
    "plt.grid()\n",
    "plt.show()\n",
    "\n"
   ]
  },
  {
   "cell_type": "markdown",
   "id": "bc0070c6",
   "metadata": {},
   "source": [
    "## EDA: Plotting a histogram of a stock's closing price in the last three months\n",
    "\n",
    "One way to see how much a stock's price generally moves is to plot the frequency of closing prices over a set time period. \n",
    "\n",
    "Your task:\n",
    "* Use the **last three months** of Apple stock data and plot a histogram of closing price"
   ]
  },
  {
   "cell_type": "code",
   "execution_count": 327,
   "id": "b48760fd",
   "metadata": {},
   "outputs": [
    {
     "data": {
      "image/png": "[encoded data removed]",
      "text/plain": [
       "<Figure size 1000x600 with 1 Axes>"
      ]
     },
     "metadata": {},
     "output_type": "display_data"
    }
   ],
   "source": [
    "# Plot the histogram of Apple's closing price over the last 3 months \n",
    "plt.figure(figsize=(10, 6))\n",
    "plt.hist(apple_stock_3m['Close/Last'], bins=20, color='blue', alpha=0.7)\n",
    "plt.title('Histogram of Apple Closing Price - Last 3 Months')\n",
    "plt.xlabel('Price')\n",
    "plt.ylabel('Frequency')\n",
    "plt.grid()\n",
    "plt.show()"
   ]
  },
  {
   "cell_type": "markdown",
   "id": "01e1b22c",
   "metadata": {},
   "source": [
    "## Calculating correlation between a stock price and a macroeconomic variable \n",
    "\n",
    "Inflation affects the purchasing power of money and can influence corporate profits, interest rates, and consumer behavior. By analyzing the correlation between stock prices and inflation, one can gauge how inflationary trends impact stock market performance. For instance, high inflation might erode profit margins and reduce stock prices, while moderate inflation might indicate a growing economy, benefiting stocks.\n",
    "\n",
    "Your task:\n",
    "* Plot a heatmap that shows the correlation between Microsoft and Apple returns and inflation \n",
    "\n",
    "This will require several steps:\n",
    "1. Calculate the returns for Apple and Microsoft and the change in monthly inflation (use the `pct_change` method for each)\n",
    "2. Interpolate the daily stock returns data to monthly so it can be compared to the monthly inflation data\n",
    "3. Merge the stock returns (Apple and Microsoft) and inflation data series into a single dataframe\n",
    "4. Calculate the correlation matrix between the Apple returns, Microsoft returns, and inflation change\n",
    "5. Plot the correlation matrix as a heatmap"
   ]
  },
  {
   "cell_type": "markdown",
   "id": "c38842ed",
   "metadata": {},
   "source": [
    "### 1. Calculate returns for Microsoft / Apple and the monthly change in inflation"
   ]
  },
  {
   "cell_type": "code",
   "execution_count": 328,
   "id": "9db072ab",
   "metadata": {},
   "outputs": [
    {
     "data": {
      "application/vnd.microsoft.datawrangler.viewer.v0+json": {
       "columns": [
        {
         "name": "DATE",
         "rawType": "datetime64[ns]",
         "type": "datetime"
        },
        {
         "name": "CORESTICKM159SFRBATL",
         "rawType": "float64",
         "type": "float"
        }
       ],
       "conversionMethod": "pd.DataFrame",
       "ref": "d0c2a0b8-2168-4d3e-b672-6dfe55ac8530",
       "rows": [
        [
         "1968-01-31 00:00:00",
         "3.65186106"
        ],
        [
         "1968-02-29 00:00:00",
         "3.673819411"
        ],
        [
         "1968-03-31 00:00:00",
         "4.142163975"
        ],
        [
         "1968-04-30 00:00:00",
         "4.155828095"
        ],
        [
         "1968-05-31 00:00:00",
         "4.088245437"
        ],
        [
         "1968-06-30 00:00:00",
         "4.545569347"
        ],
        [
         "1968-07-31 00:00:00",
         "4.753076334"
        ],
        [
         "1968-08-31 00:00:00",
         "4.9466066"
        ],
        [
         "1968-09-30 00:00:00",
         "4.948246979"
        ],
        [
         "1968-10-31 00:00:00",
         "5.182592347"
        ],
        [
         "1968-11-30 00:00:00",
         "5.399387944"
        ],
        [
         "1968-12-31 00:00:00",
         "5.706347843"
        ],
        [
         "1969-01-31 00:00:00",
         "5.746196961"
        ],
        [
         "1969-02-28 00:00:00",
         "5.749956071"
        ],
        [
         "1969-03-31 00:00:00",
         "6.125157849"
        ],
        [
         "1969-04-30 00:00:00",
         "6.505620421"
        ],
        [
         "1969-05-31 00:00:00",
         "6.780633974"
        ],
        [
         "1969-06-30 00:00:00",
         "6.375966005"
        ],
        [
         "1969-07-31 00:00:00",
         "6.389268621"
        ],
        [
         "1969-08-31 00:00:00",
         "6.414746498"
        ],
        [
         "1969-09-30 00:00:00",
         "6.834758299"
        ],
        [
         "1969-10-31 00:00:00",
         "6.560106336"
        ],
        [
         "1969-11-30 00:00:00",
         "6.437390535"
        ],
        [
         "1969-12-31 00:00:00",
         "6.402163808"
        ],
        [
         "1970-01-31 00:00:00",
         "6.592370014"
        ],
        [
         "1970-02-28 00:00:00",
         "7.053805927"
        ],
        [
         "1970-03-31 00:00:00",
         "6.993096123"
        ],
        [
         "1970-04-30 00:00:00",
         "6.817838113"
        ],
        [
         "1970-05-31 00:00:00",
         "6.947734731"
        ],
        [
         "1970-06-30 00:00:00",
         "7.151974844"
        ],
        [
         "1970-07-31 00:00:00",
         "7.00787567"
        ],
        [
         "1970-08-31 00:00:00",
         "7.114872285"
        ],
        [
         "1970-09-30 00:00:00",
         "7.081263039"
        ],
        [
         "1970-10-31 00:00:00",
         "7.057638255"
        ],
        [
         "1970-11-30 00:00:00",
         "7.327620064"
        ],
        [
         "1970-12-31 00:00:00",
         "7.342681298"
        ],
        [
         "1971-01-31 00:00:00",
         "7.014858012"
        ],
        [
         "1971-02-28 00:00:00",
         "6.329604979"
        ],
        [
         "1971-03-31 00:00:00",
         "5.50160847"
        ],
        [
         "1971-04-30 00:00:00",
         "5.306250794"
        ],
        [
         "1971-05-31 00:00:00",
         "5.060279237"
        ],
        [
         "1971-06-30 00:00:00",
         "5.239199701"
        ],
        [
         "1971-07-31 00:00:00",
         "5.165044197"
        ],
        [
         "1971-08-31 00:00:00",
         "4.913620811"
        ],
        [
         "1971-09-30 00:00:00",
         "4.672385308"
        ],
        [
         "1971-10-31 00:00:00",
         "4.376576593"
        ],
        [
         "1971-11-30 00:00:00",
         "3.953153899"
        ],
        [
         "1971-12-31 00:00:00",
         "3.677258309"
        ],
        [
         "1972-01-31 00:00:00",
         "3.728280469"
        ],
        [
         "1972-02-29 00:00:00",
         "3.841502967"
        ]
       ],
       "shape": {
        "columns": 1,
        "rows": 675
       }
      },
      "text/html": [
       "<div>\n",
       "<style scoped>\n",
       "    .dataframe tbody tr th:only-of-type {\n",
       "        vertical-align: middle;\n",
       "    }\n",
       "\n",
       "    .dataframe tbody tr th {\n",
       "        vertical-align: top;\n",
       "    }\n",
       "\n",
       "    .dataframe thead th {\n",
       "        text-align: right;\n",
       "    }\n",
       "</style>\n",
       "<table border=\"1\" class=\"dataframe\">\n",
       "  <thead>\n",
       "    <tr style=\"text-align: right;\">\n",
       "      <th></th>\n",
       "      <th>CORESTICKM159SFRBATL</th>\n",
       "    </tr>\n",
       "    <tr>\n",
       "      <th>DATE</th>\n",
       "      <th></th>\n",
       "    </tr>\n",
       "  </thead>\n",
       "  <tbody>\n",
       "    <tr>\n",
       "      <th>1968-01-31</th>\n",
       "      <td>3.651861</td>\n",
       "    </tr>\n",
       "    <tr>\n",
       "      <th>1968-02-29</th>\n",
       "      <td>3.673819</td>\n",
       "    </tr>\n",
       "    <tr>\n",
       "      <th>1968-03-31</th>\n",
       "      <td>4.142164</td>\n",
       "    </tr>\n",
       "    <tr>\n",
       "      <th>1968-04-30</th>\n",
       "      <td>4.155828</td>\n",
       "    </tr>\n",
       "    <tr>\n",
       "      <th>1968-05-31</th>\n",
       "      <td>4.088245</td>\n",
       "    </tr>\n",
       "    <tr>\n",
       "      <th>...</th>\n",
       "      <td>...</td>\n",
       "    </tr>\n",
       "    <tr>\n",
       "      <th>2023-11-30</th>\n",
       "      <td>4.688293</td>\n",
       "    </tr>\n",
       "    <tr>\n",
       "      <th>2023-12-31</th>\n",
       "      <td>4.554396</td>\n",
       "    </tr>\n",
       "    <tr>\n",
       "      <th>2024-01-31</th>\n",
       "      <td>4.603922</td>\n",
       "    </tr>\n",
       "    <tr>\n",
       "      <th>2024-02-29</th>\n",
       "      <td>4.403102</td>\n",
       "    </tr>\n",
       "    <tr>\n",
       "      <th>2024-03-31</th>\n",
       "      <td>4.509212</td>\n",
       "    </tr>\n",
       "  </tbody>\n",
       "</table>\n",
       "<p>675 rows × 1 columns</p>\n",
       "</div>"
      ],
      "text/plain": [
       "            CORESTICKM159SFRBATL\n",
       "DATE                            \n",
       "1968-01-31              3.651861\n",
       "1968-02-29              3.673819\n",
       "1968-03-31              4.142164\n",
       "1968-04-30              4.155828\n",
       "1968-05-31              4.088245\n",
       "...                          ...\n",
       "2023-11-30              4.688293\n",
       "2023-12-31              4.554396\n",
       "2024-01-31              4.603922\n",
       "2024-02-29              4.403102\n",
       "2024-03-31              4.509212\n",
       "\n",
       "[675 rows x 1 columns]"
      ]
     },
     "execution_count": 328,
     "metadata": {},
     "output_type": "execute_result"
    }
   ],
   "source": [
    "inflation_data"
   ]
  },
  {
   "cell_type": "code",
   "execution_count": 329,
   "id": "a112dc12",
   "metadata": {},
   "outputs": [],
   "source": [
    "# Calculate daily returns for Apple and Microsoft and the percent change in inflation from month to month\n",
    "apple_stock_historical['Daily Return'] = apple_stock_historical['Close/Last'].pct_change()\n",
    "microsoft_stock_historical['Daily Return'] = microsoft_stock_historical['Close/Last'].pct_change()\n",
    "inflation_data['Inflation Rate'] = inflation_data['CORESTICKM159SFRBATL'].pct_change() * 100"
   ]
  },
  {
   "cell_type": "markdown",
   "id": "c8aa1b91",
   "metadata": {},
   "source": [
    "### 2. Interpolate stock returns from daily to monthly"
   ]
  },
  {
   "cell_type": "code",
   "execution_count": 330,
   "id": "5488b875",
   "metadata": {},
   "outputs": [],
   "source": [
    "apple_stock_historical.fillna(0, inplace=True)\n",
    "microsoft_stock_historical.fillna(0, inplace=True)\n",
    "inflation_data.fillna(0, inplace=True)"
   ]
  },
  {
   "cell_type": "code",
   "execution_count": 331,
   "id": "9300a530",
   "metadata": {},
   "outputs": [
    {
     "name": "stderr",
     "output_type": "stream",
     "text": [
      "/tmp/ipykernel_1984892/1294079115.py:1: FutureWarning: 'M' is deprecated and will be removed in a future version, please use 'ME' instead.\n",
      "  apple_stock_historical_monthly = apple_stock_historical.resample('M').interpolate(method='linear').reset_index()\n",
      "/tmp/ipykernel_1984892/1294079115.py:2: FutureWarning: 'M' is deprecated and will be removed in a future version, please use 'ME' instead.\n",
      "  microsoft_stock_historical_monthly = microsoft_stock_historical.resample('M').interpolate(method='linear').reset_index()\n"
     ]
    }
   ],
   "source": [
    "apple_stock_historical_monthly = apple_stock_historical.resample('M').interpolate(method='linear').reset_index()\n",
    "microsoft_stock_historical_monthly = microsoft_stock_historical.resample('M').interpolate(method='linear').reset_index()"
   ]
  },
  {
   "cell_type": "markdown",
   "id": "268272e6",
   "metadata": {},
   "source": [
    "### 3. Merge the dataframes and calculate / plot the correlation"
   ]
  },
  {
   "cell_type": "code",
   "execution_count": 332,
   "id": "0defb97b",
   "metadata": {},
   "outputs": [],
   "source": [
    "merged_data = pd.merge(apple_stock_historical_monthly, microsoft_stock_historical_monthly, on='Date', suffixes=('_Apple', '_Microsoft'))\n",
    "merged_data = pd.merge(merged_data, inflation_data, left_on='Date', right_on='DATE', how='left')"
   ]
  },
  {
   "cell_type": "code",
   "execution_count": 333,
   "id": "64fa09ed",
   "metadata": {},
   "outputs": [
    {
     "data": {
      "application/vnd.microsoft.datawrangler.viewer.v0+json": {
       "columns": [
        {
         "name": "index",
         "rawType": "int64",
         "type": "integer"
        },
        {
         "name": "Date",
         "rawType": "datetime64[ns]",
         "type": "datetime"
        },
        {
         "name": "Close/Last_Apple",
         "rawType": "float64",
         "type": "float"
        },
        {
         "name": "Volume_Apple",
         "rawType": "float64",
         "type": "float"
        },
        {
         "name": "Open_Apple",
         "rawType": "float64",
         "type": "float"
        },
        {
         "name": "High_Apple",
         "rawType": "float64",
         "type": "float"
        },
        {
         "name": "Low_Apple",
         "rawType": "float64",
         "type": "float"
        },
        {
         "name": "Daily Return_Apple",
         "rawType": "float64",
         "type": "float"
        },
        {
         "name": "Close/Last_Microsoft",
         "rawType": "float64",
         "type": "float"
        },
        {
         "name": "Volume_Microsoft",
         "rawType": "float64",
         "type": "float"
        },
        {
         "name": "Open_Microsoft",
         "rawType": "float64",
         "type": "float"
        },
        {
         "name": "High_Microsoft",
         "rawType": "float64",
         "type": "float"
        },
        {
         "name": "Low_Microsoft",
         "rawType": "float64",
         "type": "float"
        },
        {
         "name": "Daily Return_Microsoft",
         "rawType": "float64",
         "type": "float"
        },
        {
         "name": "CORESTICKM159SFRBATL",
         "rawType": "float64",
         "type": "float"
        },
        {
         "name": "Inflation Rate",
         "rawType": "float64",
         "type": "float"
        }
       ],
       "conversionMethod": "pd.DataFrame",
       "ref": "064cbb53-6a34-4fac-9175-0357546a9ea4",
       "rows": [
        [
         "0",
         "2014-05-31 00:00:00",
         null,
         null,
         null,
         null,
         null,
         null,
         null,
         null,
         null,
         null,
         null,
         null,
         "2.127518",
         "5.025067580776055"
        ],
        [
         "1",
         "2014-06-30 00:00:00",
         "23.23",
         "197896920.0",
         "23.03",
         "23.43",
         "23.02",
         "0.010000000000000009",
         "41.7",
         "30790300.0",
         "42.17",
         "42.21",
         "41.7",
         "-0.013017751479289852",
         "2.142724",
         "0.7147295581048096"
        ],
        [
         "2",
         "2014-07-31 00:00:00",
         "23.9",
         "226501680.0",
         "24.29",
         "24.36",
         "23.83",
         "-0.026079869600652006",
         "43.16",
         "31527670.0",
         "43.38",
         "43.69",
         "43.08",
         "-0.009603359454777083",
         "2.098319",
         "-2.0723620960982236"
        ],
        [
         "3",
         "2014-08-31 00:00:00",
         "24.545",
         "223490800.0",
         "24.744999999999997",
         "24.875",
         "24.479999999999997",
         "-0.009843770197848933",
         "44.76",
         "32262245.0",
         "44.875",
         "45.08315",
         "44.545",
         "-0.005663006170110341",
         "1.959017",
         "-6.638742726916169"
        ],
        [
         "4",
         "2014-09-30 00:00:00",
         "25.19",
         "220479920.0",
         "25.2",
         "25.39",
         "25.13",
         "0.006392329204954139",
         "46.36",
         "32996820.0",
         "46.37",
         "46.4763",
         "46.01",
         "-0.0017226528854435985",
         "1.95017",
         "-0.45160404427322387"
        ],
        [
         "5",
         "2014-10-31 00:00:00",
         "27.0",
         "178203160.0",
         "27.0",
         "27.01",
         "26.8",
         "0.009345794392523255",
         "46.95",
         "35826980.0",
         "46.94",
         "46.97",
         "46.48",
         "0.01954397394136831",
         "2.001463",
         "2.630180958583117"
        ],
        [
         "6",
         "2014-11-30 00:00:00",
         "27.3",
         "171711140.0",
         "27.605",
         "27.645000000000003",
         "27.175",
         "-0.004747650261967995",
         "46.7",
         "28689035.0",
         "46.834999999999994",
         "47.205",
         "46.465",
         "0.003710736438995499",
         "1.999147",
         "-0.11571535421840418"
        ],
        [
         "7",
         "2014-12-31 00:00:00",
         "27.6",
         "165219120.0",
         "28.21",
         "28.28",
         "27.55",
         "-0.018841094916459245",
         "46.45",
         "21551090.0",
         "46.73",
         "47.44",
         "46.45",
         "-0.012122501063377311",
         "1.961226",
         "-1.896859010367924"
        ],
        [
         "8",
         "2015-01-31 00:00:00",
         "28.77",
         "166171973.33333334",
         "29.313333333333333",
         "29.393333333333334",
         "28.73",
         "-0.01762562389808901",
         "44.51833333333334",
         "25995640.0",
         "44.74666666666666",
         "45.303333333333335",
         "44.480000000000004",
         "-0.01056376372975154",
         "1.976365",
         "0.7719151184004236"
        ],
        [
         "9",
         "2015-02-28 00:00:00",
         "29.94",
         "167124826.66666666",
         "30.416666666666668",
         "30.506666666666668",
         "29.91",
         "-0.01641015287971877",
         "42.586666666666666",
         "30440190.0",
         "42.763333333333335",
         "43.166666666666664",
         "42.51",
         "-0.00900502639612577",
         "1.972517",
         "-0.19470087762127886"
        ],
        [
         "10",
         "2015-03-31 00:00:00",
         "31.11",
         "168077680.0",
         "31.52",
         "31.62",
         "31.09",
         "-0.015194681861348536",
         "40.655",
         "34884740.0",
         "40.78",
         "41.03",
         "40.54",
         "-0.0074462890625",
         "1.989606",
         "0.8663550174725865"
        ],
        [
         "11",
         "2015-04-30 00:00:00",
         "31.29",
         "331699920.0",
         "31.88",
         "31.97",
         "31.15",
         "-0.027052238805970075",
         "48.64",
         "64127280.0",
         "48.7",
         "49.54",
         "48.6",
         "-0.008560945780676787",
         "2.05371",
         "3.2219444452821433"
        ],
        [
         "12",
         "2015-05-31 00:00:00",
         "31.325",
         "254502060.0",
         "31.634999999999998",
         "31.75",
         "31.185",
         "-0.009831933730000741",
         "46.394999999999996",
         "50035160.0",
         "46.705",
         "47.129999999999995",
         "46.269999999999996",
         "-0.006759625470910857",
         "2.056561",
         "0.13882193688494748"
        ],
        [
         "13",
         "2015-06-30 00:00:00",
         "31.36",
         "177304200.0",
         "31.39",
         "31.53",
         "31.22",
         "0.007388371345968592",
         "44.15",
         "35943040.0",
         "44.71",
         "44.72",
         "43.94",
         "-0.004958305161144927",
         "2.103732",
         "2.293683484224407"
        ],
        [
         "14",
         "2015-07-31 00:00:00",
         "30.33",
         "171331560.0",
         "30.65",
         "30.66",
         "30.23",
         "-0.008499509643674408",
         "46.7",
         "31192430.0",
         "47.29",
         "47.37",
         "46.5",
         "-0.0038395904436859807",
         "2.130475",
         "1.2712170561649527"
        ],
        [
         "15",
         "2015-08-31 00:00:00",
         "28.19",
         "224446360.0",
         "28.01",
         "28.63",
         "28.0",
         "-0.004590395480225995",
         "43.52",
         "34434480.0",
         "43.56",
         "43.93",
         "43.1",
         "-0.00933302982016837",
         "2.169207",
         "1.8179983337049288"
        ],
        [
         "16",
         "2015-09-30 00:00:00",
         "27.58",
         "265203720.0",
         "27.54",
         "27.89",
         "27.18",
         "0.011367803447011271",
         "44.26",
         "34944070.0",
         "43.88",
         "44.3",
         "43.66",
         "0.01887661141804786",
         "2.268536",
         "4.579046628560568"
        ],
        [
         "17",
         "2015-10-31 00:00:00",
         "28.58",
         "208728120.0",
         "28.52",
         "28.87",
         "28.310000000000002",
         "0.007891032453556601",
         "49.305",
         "44673815.0",
         "49.21",
         "49.629999999999995",
         "48.82995",
         "0.013332242293485286",
         "2.335492",
         "2.951507051243607"
        ],
        [
         "18",
         "2015-11-30 00:00:00",
         "29.58",
         "152252520.0",
         "29.5",
         "29.85",
         "29.44",
         "0.004414261460101931",
         "54.35",
         "54403560.0",
         "54.54",
         "54.96",
         "53.9999",
         "0.00778787316892271",
         "2.394625",
         "2.5319290325122035"
        ],
        [
         "19",
         "2015-12-31 00:00:00",
         "26.32",
         "163541920.0",
         "26.75",
         "26.76",
         "26.21",
         "-0.019008572493477427",
         "55.48",
         "27329930.0",
         "56.04",
         "56.19",
         "55.42",
         "-0.014739833066950925",
         "2.437497",
         "1.7903429555776063"
        ],
        [
         "20",
         "2016-01-31 00:00:00",
         "25.245",
         "152033880.0",
         "25.485",
         "25.66",
         "25.185000000000002",
         "-0.010742420790692486",
         "53.18",
         "29481045.0",
         "53.695",
         "53.92",
         "53.04",
         "-0.01146348378493739",
         "2.460879",
         "0.9592627190925684"
        ],
        [
         "21",
         "2016-02-29 00:00:00",
         "24.17",
         "140525840.0",
         "24.22",
         "24.56",
         "24.16",
         "-0.0024762690879075455",
         "50.88",
         "31632160.0",
         "51.35",
         "51.65",
         "50.66",
         "-0.008187134502923854",
         "2.538253",
         "3.144161090407138"
        ],
        [
         "22",
         "2016-03-31 00:00:00",
         "27.25",
         "103055360.0",
         "27.43",
         "27.48",
         "27.22",
         "-0.005111354508944843",
         "55.23",
         "26353570.0",
         "54.95",
         "55.59",
         "54.86",
         "0.003269754768392419",
         "2.526214",
         "-0.47430260104095456"
        ],
        [
         "23",
         "2016-04-30 00:00:00",
         "26.11",
         "136063760.0",
         "26.165",
         "26.29",
         "25.965",
         "-0.004947068246899722",
         "54.114999999999995",
         "31907560.0",
         "53.605000000000004",
         "54.295",
         "53.47",
         "0.008133348332208468",
         "2.53143",
         "0.2064749858879722"
        ],
        [
         "24",
         "2016-05-31 00:00:00",
         "24.97",
         "169072160.0",
         "24.9",
         "25.1",
         "24.71",
         "-0.0047827819848546005",
         "53.0",
         "37461550.0",
         "52.26",
         "53.0",
         "52.08",
         "0.012996941896024516",
         "2.565678",
         "1.3529112003887178"
        ],
        [
         "25",
         "2016-06-30 00:00:00",
         "23.9",
         "143133280.0",
         "23.61",
         "23.94",
         "23.58",
         "0.012711864406779627",
         "51.17",
         "28524020.0",
         "50.72",
         "51.3",
         "50.5",
         "0.012465373961218829",
         "2.563629",
         "-0.07986193123220575"
        ],
        [
         "26",
         "2016-07-31 00:00:00",
         "25.215",
         "134844660.0",
         "25.015",
         "25.29",
         "24.994999999999997",
         "0.006921969939238881",
         "54.315",
         "24684150.0",
         "54.185",
         "54.55",
         "53.9",
         "0.002518746749135936",
         "2.569655",
         "0.23505741275355874"
        ],
        [
         "27",
         "2016-08-31 00:00:00",
         "26.53",
         "126556040.0",
         "26.42",
         "26.64",
         "26.41",
         "0.0011320754716981352",
         "57.46",
         "20844280.0",
         "57.65",
         "57.8",
         "57.3",
         "-0.007427880462946956",
         "2.716347",
         "5.708626255275506"
        ],
        [
         "28",
         "2016-09-30 00:00:00",
         "28.26",
         "145362680.0",
         "28.12",
         "28.34",
         "27.95",
         "0.007486631016042855",
         "57.6",
         "29877820.0",
         "57.57",
         "57.77",
         "57.34",
         "0.0034843205574912606",
         "2.624799",
         "-3.3702616050158563"
        ],
        [
         "29",
         "2016-10-31 00:00:00",
         "28.39",
         "105515640.0",
         "28.41",
         "28.56",
         "28.3",
         "-0.00140696447414701",
         "59.92",
         "26418340.0",
         "60.16",
         "60.42",
         "59.92",
         "0.0008351428094204305",
         "2.502268",
         "-4.66820507017871"
        ],
        [
         "30",
         "2016-11-30 00:00:00",
         "27.63",
         "144605800.0",
         "27.9",
         "28.05",
         "27.57",
         "-0.008611410118406937",
         "60.26",
         "34641520.0",
         "60.86",
         "61.18",
         "60.215",
         "-0.013586511704043347",
         "2.518564",
         "0.6512491867378012"
        ],
        [
         "31",
         "2016-12-31 00:00:00",
         "28.985",
         "167838420.0",
         "29.095",
         "29.200000000000003",
         "28.865000000000002",
         "-0.005456642250916743",
         "62.455",
         "29950210.0",
         "62.86",
         "63.165000000000006",
         "62.237500000000004",
         "-0.010478193668695956",
         "2.585286",
         "2.649208040772444"
        ],
        [
         "32",
         "2017-01-31 00:00:00",
         "30.34",
         "191071040.0",
         "30.29",
         "30.35",
         "30.16",
         "-0.00230187438342655",
         "64.65",
         "25258900.0",
         "64.86",
         "65.15",
         "64.26",
         "-0.007369875633348566",
         "2.651739",
         "2.5704312791698936"
        ],
        [
         "33",
         "2017-02-28 00:00:00",
         "34.25",
         "93785360.0",
         "34.27",
         "34.36",
         "34.18",
         "0.0005842827928719263",
         "63.98",
         "23225630.0",
         "64.08",
         "64.2",
         "63.76",
         "-0.0038922621827807147",
         "2.664566",
         "0.4837203058068784"
        ],
        [
         "34",
         "2017-03-31 00:00:00",
         "35.92",
         "78305920.0",
         "35.93",
         "36.07",
         "35.75",
         "-0.0016675931072817063",
         "65.86",
         "21037270.0",
         "65.65",
         "66.19",
         "65.45",
         "0.0022827575711459325",
         "2.436586",
         "-8.555989981107615"
        ],
        [
         "35",
         "2017-04-30 00:00:00",
         "37.055",
         "88058460.0",
         "37.21",
         "37.305",
         "36.925",
         "-0.0038270292449474885",
         "67.85",
         "25741530.0",
         "68.09",
         "68.465",
         "67.63",
         "-0.0029063417086749865",
         "2.235672",
         "-8.245717573687116"
        ],
        [
         "36",
         "2017-05-31 00:00:00",
         "38.19",
         "97811000.0",
         "38.49",
         "38.54",
         "38.1",
         "-0.005986465382613271",
         "69.84",
         "30445790.0",
         "70.53",
         "70.74",
         "69.81",
         "-0.008095440988495906",
         "2.139634",
         "-4.295710640916917"
        ],
        [
         "37",
         "2017-06-30 00:00:00",
         "36.01",
         "91947840.0",
         "36.11",
         "36.24",
         "35.95",
         "0.0025055679287304677",
         "68.93",
         "24094240.0",
         "68.78",
         "69.38",
         "68.74",
         "0.0064242955175939365",
         "2.122109",
         "-0.8190653167784778"
        ],
        [
         "38",
         "2017-07-31 00:00:00",
         "37.18",
         "78761680.0",
         "37.48",
         "37.58",
         "37.03",
         "-0.005350454788657144",
         "72.7",
         "23546300.0",
         "73.3",
         "73.44",
         "72.41",
         "-0.004654983570646309",
         "2.131777",
         "0.4555845152157678"
        ],
        [
         "39",
         "2017-08-31 00:00:00",
         "41.0",
         "106919760.0",
         "40.91",
         "41.13",
         "40.87",
         "0.003917727717923425",
         "74.77",
         "27645380.0",
         "74.03",
         "74.96",
         "73.8",
         "0.010268882583434502",
         "2.075047",
         "-2.6611601494903048"
        ],
        [
         "40",
         "2017-09-30 00:00:00",
         "41.629999999999995",
         "125018920.0",
         "41.44499999999999",
         "41.769999999999996",
         "41.305",
         "0.008916637371437663",
         "78.975",
         "27297390.0",
         "79.195",
         "79.66",
         "78.455",
         "0.0009027092616779586",
         "2.091354",
         "0.7858617178309713"
        ],
        [
         "41",
         "2017-10-31 00:00:00",
         "42.26",
         "143118080.0",
         "41.98",
         "42.41",
         "41.74",
         "0.013915547024951902",
         "83.18",
         "26949400.0",
         "84.36",
         "84.36",
         "83.11",
         "-0.008463464060078585",
         "2.177581",
         "4.123022692475797"
        ],
        [
         "42",
         "2017-11-30 00:00:00",
         "42.96",
         "165938160.0",
         "42.61",
         "43.04",
         "42.11",
         "0.013924946896389123",
         "84.17",
         "32998560.0",
         "83.51",
         "84.52",
         "83.34",
         "0.00995920326373878",
         "2.099803",
         "-3.5717615096751865"
        ],
        [
         "43",
         "2017-12-31 00:00:00",
         "42.41",
         "147438120.0",
         "42.165",
         "42.575",
         "41.870000000000005",
         "0.008399943500901785",
         "89.59",
         "40223415.0",
         "88.63",
         "89.96000000000001",
         "88.42500000000001",
         "0.01721811791394834",
         "2.117186",
         "0.8278395639971903"
        ],
        [
         "44",
         "2018-01-31 00:00:00",
         "41.86",
         "128938080.0",
         "41.72",
         "42.11",
         "41.63",
         "0.0028749401054144474",
         "95.01",
         "47448270.0",
         "93.75",
         "95.4",
         "93.51",
         "0.024477032564157897",
         "2.157823",
         "1.9193873377209236"
        ],
        [
         "45",
         "2018-02-28 00:00:00",
         "44.53",
         "150272320.0",
         "44.82",
         "45.15",
         "44.51",
         "-0.0015695067264573925",
         "93.77",
         "30011960.0",
         "94.84",
         "95.705",
         "93.63",
         "-0.0045647558386412435",
         "2.123101",
         "-1.6091217861705975"
        ],
        [
         "46",
         "2018-03-31 00:00:00",
         "42.925",
         "159089160.0",
         "42.675",
         "43.485",
         "42.485",
         "0.008333038652542646",
         "93.645",
         "35604005.0",
         "95.58500000000001",
         "96.0507",
         "93.39",
         "-0.01428404771685765",
         "2.366925",
         "11.484333529116132"
        ],
        [
         "47",
         "2018-04-30 00:00:00",
         "41.32",
         "167906000.0",
         "40.53",
         "41.82",
         "40.46",
         "0.018235584031542684",
         "93.52",
         "41196050.0",
         "96.33",
         "96.3964",
         "93.15",
         "-0.024003339595074058",
         "2.491592",
         "5.267044794406228"
        ],
        [
         "48",
         "2018-05-31 00:00:00",
         "46.72",
         "109874800.0",
         "46.81",
         "47.06",
         "46.54",
         "-0.0034129692832765013",
         "98.84",
         "34117650.0",
         "99.29",
         "99.99",
         "98.61",
         "-0.0011116725618999235",
         "2.543212",
         "2.071767769361932"
        ],
        [
         "49",
         "2018-06-30 00:00:00",
         "47.144999999999996",
         "130631920.0",
         "47.195",
         "47.55",
         "46.94",
         "-0.0007587171605936138",
         "102.46000000000001",
         "30649360.0",
         "102.89",
         "103.35499999999999",
         "101.995",
         "0.00281324410246081",
         "2.551897",
         "0.34149728768186893"
        ]
       ],
       "shape": {
        "columns": 15,
        "rows": 121
       }
      },
      "text/html": [
       "<div>\n",
       "<style scoped>\n",
       "    .dataframe tbody tr th:only-of-type {\n",
       "        vertical-align: middle;\n",
       "    }\n",
       "\n",
       "    .dataframe tbody tr th {\n",
       "        vertical-align: top;\n",
       "    }\n",
       "\n",
       "    .dataframe thead th {\n",
       "        text-align: right;\n",
       "    }\n",
       "</style>\n",
       "<table border=\"1\" class=\"dataframe\">\n",
       "  <thead>\n",
       "    <tr style=\"text-align: right;\">\n",
       "      <th></th>\n",
       "      <th>Date</th>\n",
       "      <th>Close/Last_Apple</th>\n",
       "      <th>Volume_Apple</th>\n",
       "      <th>Open_Apple</th>\n",
       "      <th>High_Apple</th>\n",
       "      <th>Low_Apple</th>\n",
       "      <th>Daily Return_Apple</th>\n",
       "      <th>Close/Last_Microsoft</th>\n",
       "      <th>Volume_Microsoft</th>\n",
       "      <th>Open_Microsoft</th>\n",
       "      <th>High_Microsoft</th>\n",
       "      <th>Low_Microsoft</th>\n",
       "      <th>Daily Return_Microsoft</th>\n",
       "      <th>CORESTICKM159SFRBATL</th>\n",
       "      <th>Inflation Rate</th>\n",
       "    </tr>\n",
       "  </thead>\n",
       "  <tbody>\n",
       "    <tr>\n",
       "      <th>0</th>\n",
       "      <td>2014-05-31</td>\n",
       "      <td>NaN</td>\n",
       "      <td>NaN</td>\n",
       "      <td>NaN</td>\n",
       "      <td>NaN</td>\n",
       "      <td>NaN</td>\n",
       "      <td>NaN</td>\n",
       "      <td>NaN</td>\n",
       "      <td>NaN</td>\n",
       "      <td>NaN</td>\n",
       "      <td>NaN</td>\n",
       "      <td>NaN</td>\n",
       "      <td>NaN</td>\n",
       "      <td>2.127518</td>\n",
       "      <td>5.025068</td>\n",
       "    </tr>\n",
       "    <tr>\n",
       "      <th>1</th>\n",
       "      <td>2014-06-30</td>\n",
       "      <td>23.230</td>\n",
       "      <td>197896920.0</td>\n",
       "      <td>23.030</td>\n",
       "      <td>23.430</td>\n",
       "      <td>23.020</td>\n",
       "      <td>0.010000</td>\n",
       "      <td>41.700</td>\n",
       "      <td>30790300.0</td>\n",
       "      <td>42.170</td>\n",
       "      <td>42.21000</td>\n",
       "      <td>41.700</td>\n",
       "      <td>-0.013018</td>\n",
       "      <td>2.142724</td>\n",
       "      <td>0.714730</td>\n",
       "    </tr>\n",
       "    <tr>\n",
       "      <th>2</th>\n",
       "      <td>2014-07-31</td>\n",
       "      <td>23.900</td>\n",
       "      <td>226501680.0</td>\n",
       "      <td>24.290</td>\n",
       "      <td>24.360</td>\n",
       "      <td>23.830</td>\n",
       "      <td>-0.026080</td>\n",
       "      <td>43.160</td>\n",
       "      <td>31527670.0</td>\n",
       "      <td>43.380</td>\n",
       "      <td>43.69000</td>\n",
       "      <td>43.080</td>\n",
       "      <td>-0.009603</td>\n",
       "      <td>2.098319</td>\n",
       "      <td>-2.072362</td>\n",
       "    </tr>\n",
       "    <tr>\n",
       "      <th>3</th>\n",
       "      <td>2014-08-31</td>\n",
       "      <td>24.545</td>\n",
       "      <td>223490800.0</td>\n",
       "      <td>24.745</td>\n",
       "      <td>24.875</td>\n",
       "      <td>24.480</td>\n",
       "      <td>-0.009844</td>\n",
       "      <td>44.760</td>\n",
       "      <td>32262245.0</td>\n",
       "      <td>44.875</td>\n",
       "      <td>45.08315</td>\n",
       "      <td>44.545</td>\n",
       "      <td>-0.005663</td>\n",
       "      <td>1.959017</td>\n",
       "      <td>-6.638743</td>\n",
       "    </tr>\n",
       "    <tr>\n",
       "      <th>4</th>\n",
       "      <td>2014-09-30</td>\n",
       "      <td>25.190</td>\n",
       "      <td>220479920.0</td>\n",
       "      <td>25.200</td>\n",
       "      <td>25.390</td>\n",
       "      <td>25.130</td>\n",
       "      <td>0.006392</td>\n",
       "      <td>46.360</td>\n",
       "      <td>32996820.0</td>\n",
       "      <td>46.370</td>\n",
       "      <td>46.47630</td>\n",
       "      <td>46.010</td>\n",
       "      <td>-0.001723</td>\n",
       "      <td>1.950170</td>\n",
       "      <td>-0.451604</td>\n",
       "    </tr>\n",
       "    <tr>\n",
       "      <th>...</th>\n",
       "      <td>...</td>\n",
       "      <td>...</td>\n",
       "      <td>...</td>\n",
       "      <td>...</td>\n",
       "      <td>...</td>\n",
       "      <td>...</td>\n",
       "      <td>...</td>\n",
       "      <td>...</td>\n",
       "      <td>...</td>\n",
       "      <td>...</td>\n",
       "      <td>...</td>\n",
       "      <td>...</td>\n",
       "      <td>...</td>\n",
       "      <td>...</td>\n",
       "      <td>...</td>\n",
       "    </tr>\n",
       "    <tr>\n",
       "      <th>116</th>\n",
       "      <td>2024-01-31</td>\n",
       "      <td>184.400</td>\n",
       "      <td>55467800.0</td>\n",
       "      <td>187.040</td>\n",
       "      <td>187.100</td>\n",
       "      <td>184.350</td>\n",
       "      <td>-0.019358</td>\n",
       "      <td>397.580</td>\n",
       "      <td>47871100.0</td>\n",
       "      <td>406.960</td>\n",
       "      <td>415.32000</td>\n",
       "      <td>397.210</td>\n",
       "      <td>-0.026946</td>\n",
       "      <td>4.603922</td>\n",
       "      <td>1.087441</td>\n",
       "    </tr>\n",
       "    <tr>\n",
       "      <th>117</th>\n",
       "      <td>2024-02-29</td>\n",
       "      <td>180.750</td>\n",
       "      <td>136682600.0</td>\n",
       "      <td>181.270</td>\n",
       "      <td>182.570</td>\n",
       "      <td>179.530</td>\n",
       "      <td>-0.003693</td>\n",
       "      <td>413.640</td>\n",
       "      <td>31947260.0</td>\n",
       "      <td>408.640</td>\n",
       "      <td>414.20000</td>\n",
       "      <td>405.920</td>\n",
       "      <td>0.014520</td>\n",
       "      <td>4.403102</td>\n",
       "      <td>-4.361932</td>\n",
       "    </tr>\n",
       "    <tr>\n",
       "      <th>118</th>\n",
       "      <td>2024-03-31</td>\n",
       "      <td>175.540</td>\n",
       "      <td>101308690.0</td>\n",
       "      <td>177.300</td>\n",
       "      <td>178.780</td>\n",
       "      <td>174.765</td>\n",
       "      <td>-0.010982</td>\n",
       "      <td>401.485</td>\n",
       "      <td>30364315.0</td>\n",
       "      <td>405.065</td>\n",
       "      <td>408.18000</td>\n",
       "      <td>397.545</td>\n",
       "      <td>-0.008800</td>\n",
       "      <td>4.509212</td>\n",
       "      <td>2.409894</td>\n",
       "    </tr>\n",
       "    <tr>\n",
       "      <th>119</th>\n",
       "      <td>2024-04-30</td>\n",
       "      <td>170.330</td>\n",
       "      <td>65934780.0</td>\n",
       "      <td>173.330</td>\n",
       "      <td>174.990</td>\n",
       "      <td>170.000</td>\n",
       "      <td>-0.018271</td>\n",
       "      <td>389.330</td>\n",
       "      <td>28781370.0</td>\n",
       "      <td>401.490</td>\n",
       "      <td>402.16000</td>\n",
       "      <td>389.170</td>\n",
       "      <td>-0.032119</td>\n",
       "      <td>NaN</td>\n",
       "      <td>NaN</td>\n",
       "    </tr>\n",
       "    <tr>\n",
       "      <th>120</th>\n",
       "      <td>2024-05-31</td>\n",
       "      <td>170.330</td>\n",
       "      <td>65934780.0</td>\n",
       "      <td>173.330</td>\n",
       "      <td>174.990</td>\n",
       "      <td>170.000</td>\n",
       "      <td>-0.018271</td>\n",
       "      <td>389.330</td>\n",
       "      <td>28781370.0</td>\n",
       "      <td>401.490</td>\n",
       "      <td>402.16000</td>\n",
       "      <td>389.170</td>\n",
       "      <td>-0.032119</td>\n",
       "      <td>NaN</td>\n",
       "      <td>NaN</td>\n",
       "    </tr>\n",
       "  </tbody>\n",
       "</table>\n",
       "<p>121 rows × 15 columns</p>\n",
       "</div>"
      ],
      "text/plain": [
       "          Date  Close/Last_Apple  Volume_Apple  Open_Apple  High_Apple  \\\n",
       "0   2014-05-31               NaN           NaN         NaN         NaN   \n",
       "1   2014-06-30            23.230   197896920.0      23.030      23.430   \n",
       "2   2014-07-31            23.900   226501680.0      24.290      24.360   \n",
       "3   2014-08-31            24.545   223490800.0      24.745      24.875   \n",
       "4   2014-09-30            25.190   220479920.0      25.200      25.390   \n",
       "..         ...               ...           ...         ...         ...   \n",
       "116 2024-01-31           184.400    55467800.0     187.040     187.100   \n",
       "117 2024-02-29           180.750   136682600.0     181.270     182.570   \n",
       "118 2024-03-31           175.540   101308690.0     177.300     178.780   \n",
       "119 2024-04-30           170.330    65934780.0     173.330     174.990   \n",
       "120 2024-05-31           170.330    65934780.0     173.330     174.990   \n",
       "\n",
       "     Low_Apple  Daily Return_Apple  Close/Last_Microsoft  Volume_Microsoft  \\\n",
       "0          NaN                 NaN                   NaN               NaN   \n",
       "1       23.020            0.010000                41.700        30790300.0   \n",
       "2       23.830           -0.026080                43.160        31527670.0   \n",
       "3       24.480           -0.009844                44.760        32262245.0   \n",
       "4       25.130            0.006392                46.360        32996820.0   \n",
       "..         ...                 ...                   ...               ...   \n",
       "116    184.350           -0.019358               397.580        47871100.0   \n",
       "117    179.530           -0.003693               413.640        31947260.0   \n",
       "118    174.765           -0.010982               401.485        30364315.0   \n",
       "119    170.000           -0.018271               389.330        28781370.0   \n",
       "120    170.000           -0.018271               389.330        28781370.0   \n",
       "\n",
       "     Open_Microsoft  High_Microsoft  Low_Microsoft  Daily Return_Microsoft  \\\n",
       "0               NaN             NaN            NaN                     NaN   \n",
       "1            42.170        42.21000         41.700               -0.013018   \n",
       "2            43.380        43.69000         43.080               -0.009603   \n",
       "3            44.875        45.08315         44.545               -0.005663   \n",
       "4            46.370        46.47630         46.010               -0.001723   \n",
       "..              ...             ...            ...                     ...   \n",
       "116         406.960       415.32000        397.210               -0.026946   \n",
       "117         408.640       414.20000        405.920                0.014520   \n",
       "118         405.065       408.18000        397.545               -0.008800   \n",
       "119         401.490       402.16000        389.170               -0.032119   \n",
       "120         401.490       402.16000        389.170               -0.032119   \n",
       "\n",
       "     CORESTICKM159SFRBATL  Inflation Rate  \n",
       "0                2.127518        5.025068  \n",
       "1                2.142724        0.714730  \n",
       "2                2.098319       -2.072362  \n",
       "3                1.959017       -6.638743  \n",
       "4                1.950170       -0.451604  \n",
       "..                    ...             ...  \n",
       "116              4.603922        1.087441  \n",
       "117              4.403102       -4.361932  \n",
       "118              4.509212        2.409894  \n",
       "119                   NaN             NaN  \n",
       "120                   NaN             NaN  \n",
       "\n",
       "[121 rows x 15 columns]"
      ]
     },
     "execution_count": 333,
     "metadata": {},
     "output_type": "execute_result"
    }
   ],
   "source": [
    "merged_data"
   ]
  },
  {
   "cell_type": "markdown",
   "id": "e1352272",
   "metadata": {},
   "source": [
    "### 4. Calculate the correlation matrix between the Apple returns, Microsoft returns, and inflation change"
   ]
  },
  {
   "cell_type": "code",
   "execution_count": 334,
   "id": "8176f9ff",
   "metadata": {},
   "outputs": [],
   "source": [
    "# Calculate correlation matrix\n",
    "correlation_matrix = merged_data[['Daily Return_Apple', 'Daily Return_Microsoft', 'Inflation Rate']].corr()"
   ]
  },
  {
   "cell_type": "code",
   "execution_count": 335,
   "id": "8ddca408",
   "metadata": {},
   "outputs": [
    {
     "data": {
      "application/vnd.microsoft.datawrangler.viewer.v0+json": {
       "columns": [
        {
         "name": "index",
         "rawType": "object",
         "type": "string"
        },
        {
         "name": "Daily Return_Apple",
         "rawType": "float64",
         "type": "float"
        },
        {
         "name": "Daily Return_Microsoft",
         "rawType": "float64",
         "type": "float"
        },
        {
         "name": "Inflation Rate",
         "rawType": "float64",
         "type": "float"
        }
       ],
       "conversionMethod": "pd.DataFrame",
       "ref": "685a58c4-ed0c-4abd-8093-90f8e48580ef",
       "rows": [
        [
         "Daily Return_Apple",
         "1.0",
         "0.4609168522465675",
         "0.020572023171396375"
        ],
        [
         "Daily Return_Microsoft",
         "0.4609168522465675",
         "1.0",
         "-0.13636889779818118"
        ],
        [
         "Inflation Rate",
         "0.020572023171396375",
         "-0.13636889779818118",
         "1.0"
        ]
       ],
       "shape": {
        "columns": 3,
        "rows": 3
       }
      },
      "text/html": [
       "<div>\n",
       "<style scoped>\n",
       "    .dataframe tbody tr th:only-of-type {\n",
       "        vertical-align: middle;\n",
       "    }\n",
       "\n",
       "    .dataframe tbody tr th {\n",
       "        vertical-align: top;\n",
       "    }\n",
       "\n",
       "    .dataframe thead th {\n",
       "        text-align: right;\n",
       "    }\n",
       "</style>\n",
       "<table border=\"1\" class=\"dataframe\">\n",
       "  <thead>\n",
       "    <tr style=\"text-align: right;\">\n",
       "      <th></th>\n",
       "      <th>Daily Return_Apple</th>\n",
       "      <th>Daily Return_Microsoft</th>\n",
       "      <th>Inflation Rate</th>\n",
       "    </tr>\n",
       "  </thead>\n",
       "  <tbody>\n",
       "    <tr>\n",
       "      <th>Daily Return_Apple</th>\n",
       "      <td>1.000000</td>\n",
       "      <td>0.460917</td>\n",
       "      <td>0.020572</td>\n",
       "    </tr>\n",
       "    <tr>\n",
       "      <th>Daily Return_Microsoft</th>\n",
       "      <td>0.460917</td>\n",
       "      <td>1.000000</td>\n",
       "      <td>-0.136369</td>\n",
       "    </tr>\n",
       "    <tr>\n",
       "      <th>Inflation Rate</th>\n",
       "      <td>0.020572</td>\n",
       "      <td>-0.136369</td>\n",
       "      <td>1.000000</td>\n",
       "    </tr>\n",
       "  </tbody>\n",
       "</table>\n",
       "</div>"
      ],
      "text/plain": [
       "                        Daily Return_Apple  Daily Return_Microsoft  \\\n",
       "Daily Return_Apple                1.000000                0.460917   \n",
       "Daily Return_Microsoft            0.460917                1.000000   \n",
       "Inflation Rate                    0.020572               -0.136369   \n",
       "\n",
       "                        Inflation Rate  \n",
       "Daily Return_Apple            0.020572  \n",
       "Daily Return_Microsoft       -0.136369  \n",
       "Inflation Rate                1.000000  "
      ]
     },
     "execution_count": 335,
     "metadata": {},
     "output_type": "execute_result"
    }
   ],
   "source": [
    "correlation_matrix"
   ]
  },
  {
   "cell_type": "markdown",
   "id": "43b0ac07",
   "metadata": {},
   "source": [
    "### 5. Plot the correlation matrix as a heatmap "
   ]
  },
  {
   "cell_type": "code",
   "execution_count": 336,
   "id": "0f731a65",
   "metadata": {},
   "outputs": [
    {
     "data": {
      "text/plain": [
       "Text(0.5, 1.0, 'Correlation Matrix')"
      ]
     },
     "execution_count": 336,
     "metadata": {},
     "output_type": "execute_result"
    },
    {
     "data": {
      "image/png": "[encoded data removed]",
      "text/plain": [
       "<Figure size 640x480 with 2 Axes>"
      ]
     },
     "metadata": {},
     "output_type": "display_data"
    }
   ],
   "source": [
    "# Plot heatmap\n",
    "sns.heatmap(correlation_matrix, annot=True, cmap='coolwarm', center=0)\n",
    "plt.title('Correlation Matrix')"
   ]
  },
  {
   "cell_type": "markdown",
   "id": "624a2410",
   "metadata": {},
   "source": [
    "## Calculating rolling volatility (standard deviation) of a stock's price for last 3 months\n",
    "\n",
    "Volatility is a measure of the dispersion of returns for a given security. By calculating rolling volatility, investors can assess the risk associated with a stock over time: Higher volatility indicates higher risk, as the stock's price is more likely to experience significant fluctuations. In portfolio optimization, understanding the volatility of individual stocks and how it changes over time is crucial for diversification and optimization. By analyzing rolling volatility, investors can adjust their portfolios to maintain a desired risk level, potentially improving the risk-return profile.\n",
    "\n",
    "One possible way to calculate volatility is by using the standard deviation of returns for a stock over time.\n",
    "\n",
    "Your task:\n",
    "* Calculate the weekly rolling standard deviation for Apple's closing price\n",
    "* Plot the calculated rolling weekly volatility of Apple's closing price against Apple's closing price. Plot these **on the same chart, but using different y-axes**\n",
    "\n",
    "Helpful hints:\n",
    "* You'll need to use the `pandas` `rolling()` method with a given `window_size` parameter to make it a _weekly_ rolling calculation\n",
    "* Use **only the last three months of data**; data much older than this may not be as useful for portfolio optimization\n",
    "* You'll need to create two axes on the matplotlib figure to be able to use two different y-axes (one for the closing price and one for the rolling volatility calculated here)"
   ]
  },
  {
   "cell_type": "code",
   "execution_count": 337,
   "id": "4da9eb94",
   "metadata": {},
   "outputs": [],
   "source": [
    "# Define the window size for the rolling calculation (e.g., one week)\n",
    "window_size = 7\n",
    "\n",
    "end_date = apple_stock_historical.index.max()\n",
    "start_date = end_date - pd.DateOffset(months=3)\n",
    "\n",
    "apple_stock_3m = apple_stock_historical[apple_stock_historical.index >= start_date]"
   ]
  },
  {
   "cell_type": "code",
   "execution_count": 338,
   "id": "7f6dcf58",
   "metadata": {},
   "outputs": [
    {
     "data": {
      "application/vnd.microsoft.datawrangler.viewer.v0+json": {
       "columns": [
        {
         "name": "Date",
         "rawType": "datetime64[ns]",
         "type": "datetime"
        },
        {
         "name": "Close/Last",
         "rawType": "float64",
         "type": "float"
        },
        {
         "name": "Volume",
         "rawType": "float64",
         "type": "float"
        },
        {
         "name": "Open",
         "rawType": "float64",
         "type": "float"
        },
        {
         "name": "High",
         "rawType": "float64",
         "type": "float"
        },
        {
         "name": "Low",
         "rawType": "float64",
         "type": "float"
        },
        {
         "name": "Daily Return",
         "rawType": "float64",
         "type": "float"
        }
       ],
       "conversionMethod": "pd.DataFrame",
       "ref": "c788efc5-dd24-450b-80d2-c4a4309418b1",
       "rows": [
        [
         "2024-02-05 00:00:00",
         "187.68",
         "69668820.0",
         "188.15",
         "189.25",
         "185.84",
         "0.00984665052461664"
        ],
        [
         "2024-02-06 00:00:00",
         "189.3",
         "43490760.0",
         "186.86",
         "189.31",
         "186.77",
         "0.008631713554987153"
        ],
        [
         "2024-02-07 00:00:00",
         "189.41",
         "53438960.0",
         "190.64",
         "191.05",
         "188.61",
         "0.0005810882197569978"
        ],
        [
         "2024-02-08 00:00:00",
         "188.32",
         "40962050.0",
         "189.39",
         "189.54",
         "187.35",
         "-0.005754712000422435"
        ],
        [
         "2024-02-09 00:00:00",
         "188.85",
         "45155220.0",
         "188.65",
         "189.99",
         "188.0",
         "0.0028143585386575243"
        ],
        [
         "2024-02-12 00:00:00",
         "187.15",
         "41781930.0",
         "188.42",
         "188.67",
         "186.79",
         "-0.009001853322742837"
        ],
        [
         "2024-02-13 00:00:00",
         "185.04",
         "56529530.0",
         "185.77",
         "186.21",
         "183.51",
         "-0.011274378840502308"
        ],
        [
         "2024-02-14 00:00:00",
         "184.15",
         "54630520.0",
         "185.32",
         "185.53",
         "182.44",
         "-0.00480977086035439"
        ],
        [
         "2024-02-15 00:00:00",
         "183.86",
         "65434500.0",
         "183.55",
         "184.49",
         "181.35",
         "-0.0015748031496062298"
        ],
        [
         "2024-02-16 00:00:00",
         "182.31",
         "49752470.0",
         "183.42",
         "184.85",
         "181.67",
         "-0.008430327423039286"
        ],
        [
         "2024-02-20 00:00:00",
         "181.56",
         "53665550.0",
         "181.79",
         "182.43",
         "180.0",
         "-0.004113871976304084"
        ],
        [
         "2024-02-21 00:00:00",
         "182.32",
         "41529670.0",
         "181.94",
         "182.89",
         "180.66",
         "0.004185944040537404"
        ],
        [
         "2024-02-22 00:00:00",
         "184.37",
         "52292210.0",
         "183.48",
         "184.96",
         "182.46",
         "0.011243966652040527"
        ],
        [
         "2024-02-23 00:00:00",
         "182.52",
         "45119680.0",
         "185.01",
         "185.04",
         "182.23",
         "-0.010034170418180777"
        ],
        [
         "2024-02-26 00:00:00",
         "181.16",
         "40867420.0",
         "182.24",
         "182.76",
         "180.65",
         "-0.007451238220469114"
        ],
        [
         "2024-02-27 00:00:00",
         "182.63",
         "54318850.0",
         "181.1",
         "183.92",
         "179.56",
         "0.008114374034003058"
        ],
        [
         "2024-02-28 00:00:00",
         "181.42",
         "48953940.0",
         "182.51",
         "183.12",
         "180.13",
         "-0.006625417510814247"
        ],
        [
         "2024-02-29 00:00:00",
         "180.75",
         "136682600.0",
         "181.27",
         "182.57",
         "179.53",
         "-0.0036930878624186203"
        ],
        [
         "2024-03-01 00:00:00",
         "179.66",
         "73563080.0",
         "179.55",
         "180.53",
         "177.38",
         "-0.006030428769018048"
        ],
        [
         "2024-03-04 00:00:00",
         "175.1",
         "81510100.0",
         "176.15",
         "176.9",
         "173.79",
         "-0.025381275743070253"
        ],
        [
         "2024-03-05 00:00:00",
         "170.12",
         "95132360.0",
         "170.76",
         "172.04",
         "169.62",
         "-0.02844089091947455"
        ],
        [
         "2024-03-06 00:00:00",
         "169.12",
         "68587710.0",
         "171.06",
         "171.24",
         "168.68",
         "-0.005878203620973466"
        ],
        [
         "2024-03-07 00:00:00",
         "169.0",
         "71765060.0",
         "169.15",
         "170.73",
         "168.49",
         "-0.0007095553453169146"
        ],
        [
         "2024-03-08 00:00:00",
         "170.73",
         "76267040.0",
         "169.0",
         "173.7",
         "168.94",
         "0.010236686390532546"
        ],
        [
         "2024-03-11 00:00:00",
         "172.75",
         "60139470.0",
         "172.94",
         "174.38",
         "172.05",
         "0.01183154688689747"
        ],
        [
         "2024-03-12 00:00:00",
         "173.23",
         "59825370.0",
         "173.15",
         "174.03",
         "171.01",
         "0.002778581765557009"
        ],
        [
         "2024-03-13 00:00:00",
         "171.13",
         "52488690.0",
         "172.77",
         "173.19",
         "170.76",
         "-0.01212261155688965"
        ],
        [
         "2024-03-14 00:00:00",
         "173.0",
         "72913510.0",
         "172.91",
         "174.31",
         "172.05",
         "0.010927365160988689"
        ],
        [
         "2024-03-15 00:00:00",
         "172.62",
         "121752700.0",
         "171.17",
         "172.62",
         "170.29",
         "-0.0021965317919074856"
        ],
        [
         "2024-03-18 00:00:00",
         "173.72",
         "75604180.0",
         "175.57",
         "177.71",
         "173.52",
         "0.006372378635152387"
        ],
        [
         "2024-03-19 00:00:00",
         "176.08",
         "55215240.0",
         "174.34",
         "176.61",
         "173.03",
         "0.01358507943817644"
        ],
        [
         "2024-03-20 00:00:00",
         "178.67",
         "53423100.0",
         "175.72",
         "178.67",
         "175.09",
         "0.014709223080417777"
        ],
        [
         "2024-03-21 00:00:00",
         "171.37",
         "106181300.0",
         "177.05",
         "177.49",
         "170.84",
         "-0.04085744668942737"
        ],
        [
         "2024-03-22 00:00:00",
         "172.28",
         "71160140.0",
         "171.76",
         "173.05",
         "170.06",
         "0.005310147633774909"
        ],
        [
         "2024-03-25 00:00:00",
         "170.85",
         "54288330.0",
         "170.57",
         "171.94",
         "169.45",
         "-0.008300441142326531"
        ],
        [
         "2024-03-26 00:00:00",
         "169.71",
         "57388450.0",
         "170.0",
         "171.42",
         "169.58",
         "-0.00667251975417027"
        ],
        [
         "2024-03-27 00:00:00",
         "173.31",
         "60273270.0",
         "170.41",
         "173.6",
         "170.11",
         "0.02121265688527485"
        ],
        [
         "2024-03-28 00:00:00",
         "171.48",
         "65672690.0",
         "171.75",
         "172.23",
         "170.51",
         "-0.010559113726847924"
        ],
        [
         "2024-04-01 00:00:00",
         "170.03",
         "46240500.0",
         "171.19",
         "171.25",
         "169.48",
         "-0.008455796594354914"
        ],
        [
         "2024-04-02 00:00:00",
         "168.84",
         "49329480.0",
         "169.08",
         "169.34",
         "168.23",
         "-0.0069987649238369976"
        ],
        [
         "2024-04-03 00:00:00",
         "169.65",
         "47691720.0",
         "168.79",
         "170.68",
         "168.58",
         "0.00479744136460547"
        ],
        [
         "2024-04-04 00:00:00",
         "168.82",
         "53704390.0",
         "170.29",
         "171.92",
         "168.82",
         "-0.004892425582080806"
        ],
        [
         "2024-04-05 00:00:00",
         "169.58",
         "42104830.0",
         "169.59",
         "170.39",
         "168.95",
         "0.004501836275322857"
        ],
        [
         "2024-04-08 00:00:00",
         "169.67",
         "37425510.0",
         "169.03",
         "169.2",
         "168.24",
         "0.0005307229626134724"
        ],
        [
         "2024-04-09 00:00:00",
         "169.67",
         "42451210.0",
         "168.7",
         "170.08",
         "168.35",
         "0.0"
        ],
        [
         "2024-04-10 00:00:00",
         "167.78",
         "49709340.0",
         "168.8",
         "169.09",
         "167.11",
         "-0.011139270348323183"
        ],
        [
         "2024-04-11 00:00:00",
         "175.04",
         "91070280.0",
         "168.34",
         "175.46",
         "168.16",
         "0.04327095005364168"
        ],
        [
         "2024-04-12 00:00:00",
         "176.55",
         "101670900.0",
         "174.26",
         "178.36",
         "174.21",
         "0.008626599634369292"
        ],
        [
         "2024-04-15 00:00:00",
         "172.69",
         "73531770.0",
         "175.36",
         "176.63",
         "172.5",
         "-0.02186349476069105"
        ],
        [
         "2024-04-16 00:00:00",
         "169.38",
         "73711240.0",
         "171.75",
         "173.76",
         "168.27",
         "-0.01916729399502004"
        ]
       ],
       "shape": {
        "columns": 6,
        "rows": 63
       }
      },
      "text/html": [
       "<div>\n",
       "<style scoped>\n",
       "    .dataframe tbody tr th:only-of-type {\n",
       "        vertical-align: middle;\n",
       "    }\n",
       "\n",
       "    .dataframe tbody tr th {\n",
       "        vertical-align: top;\n",
       "    }\n",
       "\n",
       "    .dataframe thead th {\n",
       "        text-align: right;\n",
       "    }\n",
       "</style>\n",
       "<table border=\"1\" class=\"dataframe\">\n",
       "  <thead>\n",
       "    <tr style=\"text-align: right;\">\n",
       "      <th></th>\n",
       "      <th>Close/Last</th>\n",
       "      <th>Volume</th>\n",
       "      <th>Open</th>\n",
       "      <th>High</th>\n",
       "      <th>Low</th>\n",
       "      <th>Daily Return</th>\n",
       "    </tr>\n",
       "    <tr>\n",
       "      <th>Date</th>\n",
       "      <th></th>\n",
       "      <th></th>\n",
       "      <th></th>\n",
       "      <th></th>\n",
       "      <th></th>\n",
       "      <th></th>\n",
       "    </tr>\n",
       "  </thead>\n",
       "  <tbody>\n",
       "    <tr>\n",
       "      <th>2024-02-05</th>\n",
       "      <td>187.68</td>\n",
       "      <td>69668820.0</td>\n",
       "      <td>188.15</td>\n",
       "      <td>189.25</td>\n",
       "      <td>185.84</td>\n",
       "      <td>0.009847</td>\n",
       "    </tr>\n",
       "    <tr>\n",
       "      <th>2024-02-06</th>\n",
       "      <td>189.30</td>\n",
       "      <td>43490760.0</td>\n",
       "      <td>186.86</td>\n",
       "      <td>189.31</td>\n",
       "      <td>186.77</td>\n",
       "      <td>0.008632</td>\n",
       "    </tr>\n",
       "    <tr>\n",
       "      <th>2024-02-07</th>\n",
       "      <td>189.41</td>\n",
       "      <td>53438960.0</td>\n",
       "      <td>190.64</td>\n",
       "      <td>191.05</td>\n",
       "      <td>188.61</td>\n",
       "      <td>0.000581</td>\n",
       "    </tr>\n",
       "    <tr>\n",
       "      <th>2024-02-08</th>\n",
       "      <td>188.32</td>\n",
       "      <td>40962050.0</td>\n",
       "      <td>189.39</td>\n",
       "      <td>189.54</td>\n",
       "      <td>187.35</td>\n",
       "      <td>-0.005755</td>\n",
       "    </tr>\n",
       "    <tr>\n",
       "      <th>2024-02-09</th>\n",
       "      <td>188.85</td>\n",
       "      <td>45155220.0</td>\n",
       "      <td>188.65</td>\n",
       "      <td>189.99</td>\n",
       "      <td>188.00</td>\n",
       "      <td>0.002814</td>\n",
       "    </tr>\n",
       "    <tr>\n",
       "      <th>...</th>\n",
       "      <td>...</td>\n",
       "      <td>...</td>\n",
       "      <td>...</td>\n",
       "      <td>...</td>\n",
       "      <td>...</td>\n",
       "      <td>...</td>\n",
       "    </tr>\n",
       "    <tr>\n",
       "      <th>2024-04-29</th>\n",
       "      <td>173.50</td>\n",
       "      <td>68169420.0</td>\n",
       "      <td>173.37</td>\n",
       "      <td>176.03</td>\n",
       "      <td>173.10</td>\n",
       "      <td>0.024808</td>\n",
       "    </tr>\n",
       "    <tr>\n",
       "      <th>2024-04-30</th>\n",
       "      <td>170.33</td>\n",
       "      <td>65934780.0</td>\n",
       "      <td>173.33</td>\n",
       "      <td>174.99</td>\n",
       "      <td>170.00</td>\n",
       "      <td>-0.018271</td>\n",
       "    </tr>\n",
       "    <tr>\n",
       "      <th>2024-05-01</th>\n",
       "      <td>169.30</td>\n",
       "      <td>50383150.0</td>\n",
       "      <td>169.58</td>\n",
       "      <td>172.71</td>\n",
       "      <td>169.11</td>\n",
       "      <td>-0.006047</td>\n",
       "    </tr>\n",
       "    <tr>\n",
       "      <th>2024-05-02</th>\n",
       "      <td>173.03</td>\n",
       "      <td>94214920.0</td>\n",
       "      <td>172.51</td>\n",
       "      <td>173.42</td>\n",
       "      <td>170.89</td>\n",
       "      <td>0.022032</td>\n",
       "    </tr>\n",
       "    <tr>\n",
       "      <th>2024-05-03</th>\n",
       "      <td>183.38</td>\n",
       "      <td>163224100.0</td>\n",
       "      <td>186.65</td>\n",
       "      <td>187.00</td>\n",
       "      <td>182.66</td>\n",
       "      <td>0.059816</td>\n",
       "    </tr>\n",
       "  </tbody>\n",
       "</table>\n",
       "<p>63 rows × 6 columns</p>\n",
       "</div>"
      ],
      "text/plain": [
       "            Close/Last       Volume    Open    High     Low  Daily Return\n",
       "Date                                                                     \n",
       "2024-02-05      187.68   69668820.0  188.15  189.25  185.84      0.009847\n",
       "2024-02-06      189.30   43490760.0  186.86  189.31  186.77      0.008632\n",
       "2024-02-07      189.41   53438960.0  190.64  191.05  188.61      0.000581\n",
       "2024-02-08      188.32   40962050.0  189.39  189.54  187.35     -0.005755\n",
       "2024-02-09      188.85   45155220.0  188.65  189.99  188.00      0.002814\n",
       "...                ...          ...     ...     ...     ...           ...\n",
       "2024-04-29      173.50   68169420.0  173.37  176.03  173.10      0.024808\n",
       "2024-04-30      170.33   65934780.0  173.33  174.99  170.00     -0.018271\n",
       "2024-05-01      169.30   50383150.0  169.58  172.71  169.11     -0.006047\n",
       "2024-05-02      173.03   94214920.0  172.51  173.42  170.89      0.022032\n",
       "2024-05-03      183.38  163224100.0  186.65  187.00  182.66      0.059816\n",
       "\n",
       "[63 rows x 6 columns]"
      ]
     },
     "execution_count": 338,
     "metadata": {},
     "output_type": "execute_result"
    }
   ],
   "source": [
    "apple_stock_3m"
   ]
  },
  {
   "cell_type": "code",
   "execution_count": 339,
   "id": "2c5142b4",
   "metadata": {},
   "outputs": [
    {
     "name": "stderr",
     "output_type": "stream",
     "text": [
      "/tmp/ipykernel_1984892/1173325264.py:2: SettingWithCopyWarning: \n",
      "A value is trying to be set on a copy of a slice from a DataFrame.\n",
      "Try using .loc[row_indexer,col_indexer] = value instead\n",
      "\n",
      "See the caveats in the documentation: https://pandas.pydata.org/pandas-docs/stable/user_guide/indexing.html#returning-a-view-versus-a-copy\n",
      "  apple_stock_3m['Rolling Volatility'] = apple_stock_3m['Daily Return'].rolling(window=window_size).std()\n",
      "/tmp/ipykernel_1984892/1173325264.py:3: SettingWithCopyWarning: \n",
      "A value is trying to be set on a copy of a slice from a DataFrame.\n",
      "Try using .loc[row_indexer,col_indexer] = value instead\n",
      "\n",
      "See the caveats in the documentation: https://pandas.pydata.org/pandas-docs/stable/user_guide/indexing.html#returning-a-view-versus-a-copy\n",
      "  apple_stock_3m['Rolling Volatility'] = apple_stock_3m['Rolling Volatility'].bfill()\n"
     ]
    }
   ],
   "source": [
    "# Calculate rolling one-week volatility\n",
    "apple_stock_3m['Rolling Volatility'] = apple_stock_3m['Daily Return'].rolling(window=window_size).std()\n",
    "apple_stock_3m['Rolling Volatility'] = apple_stock_3m['Rolling Volatility'].bfill()"
   ]
  },
  {
   "cell_type": "code",
   "execution_count": 340,
   "id": "92a9c0b8",
   "metadata": {},
   "outputs": [
    {
     "data": {
      "image/png": "[encoded data removed]",
      "text/plain": [
       "<Figure size 1400x700 with 2 Axes>"
      ]
     },
     "metadata": {},
     "output_type": "display_data"
    }
   ],
   "source": [
    "# Plot the calculated rolling weekly volatility of Apple's closing price against Apple's closing price\n",
    "# Plot these on the same chart, but using different y-axes\n",
    "fig, ax = plt.subplots(figsize=(14, 7))\n",
    "ax2 = ax.twinx()\n",
    "ax.plot(apple_stock_3m.index, apple_stock_3m['Close/Last'], label='Apple Closing Price', color='blue')\n",
    "ax2.plot(apple_stock_3m.index, apple_stock_3m['Rolling Volatility'], label='Rolling Volatility', color='orange', alpha=0.7)\n",
    "ax.set_title('Apple Closing Price and Rolling Volatility - Last 3 Months')\n",
    "ax.set_xlabel('Date')\n",
    "ax.set_ylabel('Price')\n",
    "ax2.set_ylabel('Volatility')\n",
    "ax.legend(loc='upper left')\n",
    "ax2.legend(loc='upper right')\n",
    "ax.grid()\n",
    "plt.show()"
   ]
  },
  {
   "cell_type": "markdown",
   "id": "e2cf3c78",
   "metadata": {},
   "source": [
    "## Export data\n",
    "\n",
    "Now that you have preprocessed your data, you should save it in new csv files so that it can be used in downstream tasks without having to redo all the preprocessing steps. \n",
    "\n",
    "Your task:\n",
    "* Use `pandas` to export all modified datasets back to new CSV files"
   ]
  },
  {
   "cell_type": "code",
   "execution_count": 341,
   "id": "3d67d29c",
   "metadata": {},
   "outputs": [],
   "source": [
    "gdp_data.to_csv('GDP_cleaned.csv', index=False)\n",
    "apple_stock_historical.to_csv('apple_stock_historical_cleaned.csv')\n",
    "microsoft_stock_historical.to_csv('microsoft_stock_historical_cleaned.csv')\n",
    "inflation_data.to_csv('inflation_data_cleaned.csv', index=False)\n",
    "merged_data.to_csv('merged_data.csv', index=False)\n",
    "apple_stock_3m.to_csv('apple_stock_3m.csv', index=False)\n"
   ]
  },
  {
   "cell_type": "code",
   "execution_count": null,
   "id": "8465271c",
   "metadata": {},
   "outputs": [],
   "source": []
  }
 ],
 "metadata": {
  "kernelspec": {
   "display_name": "udacity",
   "language": "python",
   "name": "python3"
  },
  "language_info": {
   "codemirror_mode": {
    "name": "ipython",
    "version": 3
   },
   "file_extension": ".py",
   "mimetype": "text/x-python",
   "name": "python",
   "nbconvert_exporter": "python",
   "pygments_lexer": "ipython3",
   "version": "3.10.12"
  }
 },
 "nbformat": 4,
 "nbformat_minor": 5
}
